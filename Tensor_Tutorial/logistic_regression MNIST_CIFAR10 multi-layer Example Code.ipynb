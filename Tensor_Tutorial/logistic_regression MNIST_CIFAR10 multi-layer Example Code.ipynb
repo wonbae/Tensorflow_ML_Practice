{
 "cells": [
  {
   "cell_type": "markdown",
   "metadata": {
    "slideshow": {
     "slide_type": "slide"
    }
   },
   "source": [
    "# Logistic Regression - Multi-Layer Case\n",
    "## (for mnist, cifar10 dataset)"
   ]
  },
  {
   "cell_type": "markdown",
   "metadata": {
    "slideshow": {
     "slide_type": "slide"
    }
   },
   "source": [
    "# Library"
   ]
  },
  {
   "cell_type": "code",
   "execution_count": 1,
   "metadata": {
    "slideshow": {
     "slide_type": "-"
    }
   },
   "outputs": [],
   "source": [
    "import tensorflow as tf\n",
    "import numpy as np\n",
    "from tensorflow.keras.datasets import mnist, cifar10\n",
    "from matplotlib import pyplot as plt\n",
    "from sklearn.metrics import confusion_matrix"
   ]
  },
  {
   "cell_type": "markdown",
   "metadata": {
    "slideshow": {
     "slide_type": "slide"
    }
   },
   "source": [
    "# Load data and data check"
   ]
  },
  {
   "cell_type": "code",
   "execution_count": 2,
   "metadata": {
    "slideshow": {
     "slide_type": "-"
    }
   },
   "outputs": [],
   "source": [
    "# load data\n",
    "(x_train, y_train), (x_test, y_test) = mnist.load_data()\n",
    "# (x_train, y_train), (x_test, y_test) = cifar10.load_data()"
   ]
  },
  {
   "cell_type": "code",
   "execution_count": 3,
   "metadata": {
    "slideshow": {
     "slide_type": "subslide"
    }
   },
   "outputs": [
    {
     "data": {
      "image/png": "[encoded data removed]",
      "text/plain": [
       "<Figure size 432x288 with 1 Axes>"
      ]
     },
     "metadata": {
      "needs_background": "light"
     },
     "output_type": "display_data"
    },
    {
     "name": "stdout",
     "output_type": "stream",
     "text": [
      "[[[0 0 0 ... 0 0 0]\n",
      "  [0 0 0 ... 0 0 0]\n",
      "  [0 0 0 ... 0 0 0]\n",
      "  ...\n",
      "  [0 0 0 ... 0 0 0]\n",
      "  [0 0 0 ... 0 0 0]\n",
      "  [0 0 0 ... 0 0 0]]\n",
      "\n",
      " [[0 0 0 ... 0 0 0]\n",
      "  [0 0 0 ... 0 0 0]\n",
      "  [0 0 0 ... 0 0 0]\n",
      "  ...\n",
      "  [0 0 0 ... 0 0 0]\n",
      "  [0 0 0 ... 0 0 0]\n",
      "  [0 0 0 ... 0 0 0]]\n",
      "\n",
      " [[0 0 0 ... 0 0 0]\n",
      "  [0 0 0 ... 0 0 0]\n",
      "  [0 0 0 ... 0 0 0]\n",
      "  ...\n",
      "  [0 0 0 ... 0 0 0]\n",
      "  [0 0 0 ... 0 0 0]\n",
      "  [0 0 0 ... 0 0 0]]\n",
      "\n",
      " ...\n",
      "\n",
      " [[0 0 0 ... 0 0 0]\n",
      "  [0 0 0 ... 0 0 0]\n",
      "  [0 0 0 ... 0 0 0]\n",
      "  ...\n",
      "  [0 0 0 ... 0 0 0]\n",
      "  [0 0 0 ... 0 0 0]\n",
      "  [0 0 0 ... 0 0 0]]\n",
      "\n",
      " [[0 0 0 ... 0 0 0]\n",
      "  [0 0 0 ... 0 0 0]\n",
      "  [0 0 0 ... 0 0 0]\n",
      "  ...\n",
      "  [0 0 0 ... 0 0 0]\n",
      "  [0 0 0 ... 0 0 0]\n",
      "  [0 0 0 ... 0 0 0]]\n",
      "\n",
      " [[0 0 0 ... 0 0 0]\n",
      "  [0 0 0 ... 0 0 0]\n",
      "  [0 0 0 ... 0 0 0]\n",
      "  ...\n",
      "  [0 0 0 ... 0 0 0]\n",
      "  [0 0 0 ... 0 0 0]\n",
      "  [0 0 0 ... 0 0 0]]]\n",
      "[5 0 4 ... 5 6 8]\n"
     ]
    }
   ],
   "source": [
    "# data check\n",
    "plt.figure()\n",
    "plt.imshow(x_train[0])\n",
    "plt.show()\n",
    "print(x_train)\n",
    "print(y_train)"
   ]
  },
  {
   "cell_type": "markdown",
   "metadata": {
    "slideshow": {
     "slide_type": "slide"
    }
   },
   "source": [
    "# Data preprocessing (x reshape, x nomalize, y onehot)"
   ]
  },
  {
   "cell_type": "code",
   "execution_count": 4,
   "metadata": {
    "slideshow": {
     "slide_type": "-"
    }
   },
   "outputs": [],
   "source": [
    "shape = x_train.shape[1:]\n",
    "\n",
    "# x data reshape\n",
    "reshaped_x_train = x_train.reshape(-1, np.prod(shape))\n",
    "reshaped_x_test = x_test.reshape(-1, np.prod(shape))\n",
    "\n",
    "# x data normalization\n",
    "X_train = reshaped_x_train / 255.\n",
    "X_test = reshaped_x_test / 255.\n",
    "\n",
    "# y data one hot encoding\n",
    "Y_train = np.eye(10)[y_train.reshape(-1)]\n",
    "Y_test = np.eye(10)[y_test.reshape(-1)]"
   ]
  },
  {
   "cell_type": "code",
   "execution_count": 5,
   "metadata": {
    "slideshow": {
     "slide_type": "subslide"
    }
   },
   "outputs": [
    {
     "name": "stdout",
     "output_type": "stream",
     "text": [
      "X data shape: (60000, 784) (10000, 784)\n",
      "Y data shape: (60000, 10) (10000, 10)\n",
      "\n",
      "X train data\n",
      "[[0. 0. 0. ... 0. 0. 0.]\n",
      " [0. 0. 0. ... 0. 0. 0.]\n",
      " [0. 0. 0. ... 0. 0. 0.]\n",
      " ...\n",
      " [0. 0. 0. ... 0. 0. 0.]\n",
      " [0. 0. 0. ... 0. 0. 0.]\n",
      " [0. 0. 0. ... 0. 0. 0.]]\n",
      "X test data\n",
      "[[0. 0. 0. ... 0. 0. 0.]\n",
      " [0. 0. 0. ... 0. 0. 0.]\n",
      " [0. 0. 0. ... 0. 0. 0.]\n",
      " ...\n",
      " [0. 0. 0. ... 0. 0. 0.]\n",
      " [0. 0. 0. ... 0. 0. 0.]\n",
      " [0. 0. 0. ... 0. 0. 0.]]\n",
      "\n",
      "Y train data\n",
      "[[0. 0. 0. ... 0. 0. 0.]\n",
      " [1. 0. 0. ... 0. 0. 0.]\n",
      " [0. 0. 0. ... 0. 0. 0.]\n",
      " ...\n",
      " [0. 0. 0. ... 0. 0. 0.]\n",
      " [0. 0. 0. ... 0. 0. 0.]\n",
      " [0. 0. 0. ... 0. 1. 0.]]\n",
      "Y test data\n",
      "[[0. 0. 0. ... 1. 0. 0.]\n",
      " [0. 0. 1. ... 0. 0. 0.]\n",
      " [0. 1. 0. ... 0. 0. 0.]\n",
      " ...\n",
      " [0. 0. 0. ... 0. 0. 0.]\n",
      " [0. 0. 0. ... 0. 0. 0.]\n",
      " [0. 0. 0. ... 0. 0. 0.]]\n"
     ]
    }
   ],
   "source": [
    "print('X data shape:', X_train.shape, X_test.shape)\n",
    "print('Y data shape:', Y_train.shape, Y_test.shape)\n",
    "print()\n",
    "\n",
    "print('X train data')\n",
    "print(X_train)\n",
    "print('X test data')\n",
    "print(X_test)\n",
    "print()\n",
    "\n",
    "print('Y train data')\n",
    "print(Y_train)\n",
    "print('Y test data')\n",
    "print(Y_test)"
   ]
  },
  {
   "cell_type": "markdown",
   "metadata": {
    "slideshow": {
     "slide_type": "slide"
    }
   },
   "source": [
    "# Multi Layer Logistic Regression"
   ]
  },
  {
   "cell_type": "markdown",
   "metadata": {
    "slideshow": {
     "slide_type": "slide"
    }
   },
   "source": [
    "## Hyper parameter setting"
   ]
  },
  {
   "cell_type": "code",
   "execution_count": 6,
   "metadata": {
    "slideshow": {
     "slide_type": "-"
    }
   },
   "outputs": [],
   "source": [
    "# hypter parameter setting\n",
    "learning_rate = 1e-1\n",
    "training_epochs = 25\n",
    "display_step = 5\n",
    "\n",
    "# number of hidden layer's node\n",
    "h = 256\n",
    "# activation function\n",
    "act = tf.nn.tanh"
   ]
  },
  {
   "cell_type": "markdown",
   "metadata": {
    "slideshow": {
     "slide_type": "slide"
    }
   },
   "source": [
    "## Skeleton code"
   ]
  },
  {
   "cell_type": "code",
   "execution_count": 7,
   "metadata": {
    "slideshow": {
     "slide_type": "-"
    }
   },
   "outputs": [],
   "source": [
    "tf.reset_default_graph()\n",
    "\n",
    "# place holder\n",
    "\n",
    "\n",
    "\n",
    "# variables\n",
    "\n",
    "\n",
    "\n",
    "\n",
    "\n",
    "# model\n",
    "\n",
    "\n",
    "\n",
    "# cross entropy loss and optimizer\n",
    "\n"
   ]
  },
  {
   "cell_type": "markdown",
   "metadata": {
    "slideshow": {
     "slide_type": "slide"
    }
   },
   "source": [
    "## Make model with get_variable"
   ]
  },
  {
   "cell_type": "code",
   "execution_count": 8,
   "metadata": {
    "slideshow": {
     "slide_type": "-"
    }
   },
   "outputs": [],
   "source": [
    "tf.reset_default_graph()\n",
    "\n",
    "# place holder\n",
    "tf_X = tf.placeholder(tf.float32, [None, np.prod(shape)])\n",
    "tf_Y = tf.placeholder(tf.float32, [None, 10])\n",
    "\n",
    "# get variables\n",
    "w1 = tf.get_variable('w1', [np.prod(shape), h])\n",
    "b1 = tf.get_variable('b1', [h])\n",
    "w2 = tf.get_variable('w2', [h, 10])\n",
    "b2 = tf.get_variable('b2', [10])\n",
    "\n",
    "# model\n",
    "hidden1 = act(tf_X @ w1 + b1)\n",
    "pred = tf.nn.softmax(hidden1 @ w2 + b2)\n",
    "\n",
    "# cross entropy loss\n",
    "loss = tf.reduce_mean(-tf.reduce_sum(tf_Y * tf.log(pred), axis=1))\n",
    "optimizer = tf.train.GradientDescentOptimizer(learning_rate).minimize(loss)"
   ]
  },
  {
   "cell_type": "markdown",
   "metadata": {
    "slideshow": {
     "slide_type": "slide"
    }
   },
   "source": [
    "## Make model with tf.layers.dense"
   ]
  },
  {
   "cell_type": "code",
   "execution_count": 9,
   "metadata": {
    "slideshow": {
     "slide_type": "-"
    }
   },
   "outputs": [],
   "source": [
    "tf.reset_default_graph()\n",
    "\n",
    "# place holder\n",
    "tf_X = tf.placeholder(tf.float32, [None, np.prod(shape)])\n",
    "tf_Y = tf.placeholder(tf.float32, [None, 10])\n",
    "\n",
    "# get variables\n",
    "\n",
    "\n",
    "\n",
    "\n",
    "\n",
    "# model\n",
    "hidden1 = tf.layers.dense(tf_X, h, activation=act)\n",
    "pred = tf.layers.dense(hidden1, 10)\n",
    "\n",
    "# cross entropy loss\n",
    "loss = tf.losses.softmax_cross_entropy(tf_Y, pred)\n",
    "optimizer = tf.train.GradientDescentOptimizer(learning_rate).minimize(loss)"
   ]
  },
  {
   "cell_type": "markdown",
   "metadata": {
    "slideshow": {
     "slide_type": "slide"
    }
   },
   "source": [
    "# Train and result (without batch)"
   ]
  },
  {
   "cell_type": "code",
   "execution_count": 10,
   "metadata": {
    "slideshow": {
     "slide_type": "-"
    }
   },
   "outputs": [
    {
     "name": "stdout",
     "output_type": "stream",
     "text": [
      "Epoch: 5 \tLoss: 1.702242\n",
      "Epoch: 10 \tLoss: 1.2693437\n",
      "Epoch: 15 \tLoss: 1.036035\n",
      "Epoch: 20 \tLoss: 0.8945361\n",
      "Epoch: 25 \tLoss: 0.80015826\n",
      "최적화 완료\n",
      "정확도: 0.8336\n"
     ]
    }
   ],
   "source": [
    "# train\n",
    "init = tf.global_variables_initializer()\n",
    "\n",
    "with tf.Session() as sess:\n",
    "    # init\n",
    "    sess.run(init)\n",
    "    \n",
    "    # train\n",
    "    losses = []  # init loss list\n",
    "    for epoch in range(training_epochs):\n",
    "        # get loss in sess.run\n",
    "        _, l = sess.run([optimizer, loss], feed_dict={tf_X:X_train, tf_Y:Y_train})\n",
    "        losses.append(l)  # save loss\n",
    "\n",
    "        if (epoch + 1) % display_step == 0:\n",
    "            print(\"Epoch:\", epoch + 1, \"\\tLoss:\", l) \n",
    "\n",
    "    print(\"최적화 완료\") \n",
    "\n",
    "    # result\n",
    "    correct_prediction = tf.equal(tf.argmax(pred, 1), tf.argmax(tf_Y, 1))\n",
    "    accuracy = tf.reduce_mean(tf.cast(correct_prediction, tf.float32))\n",
    "    test_accuracy, y_test_pred = sess.run([accuracy, pred], feed_dict={tf_X: X_test, tf_Y: Y_test})\n",
    "    print(\"정확도:\", test_accuracy) "
   ]
  },
  {
   "cell_type": "code",
   "execution_count": 11,
   "metadata": {
    "slideshow": {
     "slide_type": "subslide"
    }
   },
   "outputs": [
    {
     "data": {
      "image/png": "[encoded data removed]",
      "text/plain": [
       "<Figure size 432x288 with 1 Axes>"
      ]
     },
     "metadata": {
      "needs_background": "light"
     },
     "output_type": "display_data"
    },
    {
     "data": {
      "text/plain": [
       "array([[ 939,    0,   28,    9,    3,   28,   21,    4,   15,   22],\n",
       "       [   1, 1092,   45,    7,   12,   30,    8,   42,   24,   12],\n",
       "       [   2,    5,  786,   24,    9,   12,   36,   24,   17,   10],\n",
       "       [   2,    3,   38,  865,    2,  128,    1,    5,   62,   14],\n",
       "       [   1,    0,   15,    1,  835,   27,   13,   15,   23,   74],\n",
       "       [   6,    1,    0,   29,    0,  552,   25,    0,   27,    6],\n",
       "       [  19,    5,   27,   12,   28,   42,  844,    2,   20,    2],\n",
       "       [   1,    0,   30,   12,    4,   23,    1,  879,   20,   51],\n",
       "       [   9,   29,   56,   34,   13,   35,    9,   11,  744,   18],\n",
       "       [   0,    0,    7,   17,   76,   15,    0,   46,   22,  800]])"
      ]
     },
     "execution_count": 11,
     "metadata": {},
     "output_type": "execute_result"
    }
   ],
   "source": [
    "# plot losses\n",
    "plt.figure()\n",
    "plt.plot(losses)\n",
    "plt.show()\n",
    "\n",
    "# print confusion matrix\n",
    "confusion_matrix(np.argmax(y_test_pred, 1), y_test)"
   ]
  },
  {
   "cell_type": "markdown",
   "metadata": {
    "slideshow": {
     "slide_type": "slide"
    }
   },
   "source": [
    "# Train and result (with batch - 1)"
   ]
  },
  {
   "cell_type": "code",
   "execution_count": 12,
   "metadata": {
    "slideshow": {
     "slide_type": "-"
    }
   },
   "outputs": [
    {
     "name": "stdout",
     "output_type": "stream",
     "text": [
      "Epoch: 5 \tLoss: 1.6981237\n",
      "Epoch: 10 \tLoss: 1.2651151\n",
      "Epoch: 15 \tLoss: 1.0311172\n",
      "Epoch: 20 \tLoss: 0.88991576\n",
      "Epoch: 25 \tLoss: 0.79617834\n",
      "최적화 완료\n",
      "정확도: 0.8362\n"
     ]
    }
   ],
   "source": [
    "# train\n",
    "init = tf.global_variables_initializer()\n",
    "\n",
    "with tf.Session() as sess:\n",
    "    # init\n",
    "    sess.run(init)\n",
    "    \n",
    "    # train\n",
    "    batch_size = 100  ### batch size hyper_parameter\n",
    "    losses = []  # init loss list\n",
    "    for epoch in range(training_epochs):\n",
    "        # get loss in sess.run\n",
    "        _, l = sess.run([optimizer, loss], feed_dict={tf_X:X_train, tf_Y:Y_train})\n",
    "        losses.append(l)  # save loss\n",
    "\n",
    "        if (epoch + 1) % display_step == 0:\n",
    "            print(\"Epoch:\", epoch + 1, \"\\tLoss:\", l) \n",
    "\n",
    "    print(\"최적화 완료\") \n",
    "\n",
    "    # result\n",
    "    correct_prediction = tf.equal(tf.argmax(pred, 1), tf.argmax(tf_Y, 1))\n",
    "    accuracy = tf.reduce_mean(tf.cast(correct_prediction, tf.float32))\n",
    "    test_accuracy, y_test_pred = sess.run([accuracy, pred], feed_dict={tf_X: X_test, tf_Y: Y_test})\n",
    "    print(\"정확도:\", test_accuracy) "
   ]
  },
  {
   "cell_type": "markdown",
   "metadata": {
    "slideshow": {
     "slide_type": "slide"
    }
   },
   "source": [
    "# Train and result (with batch - 2)"
   ]
  },
  {
   "cell_type": "code",
   "execution_count": 13,
   "metadata": {
    "slideshow": {
     "slide_type": "-"
    }
   },
   "outputs": [
    {
     "name": "stdout",
     "output_type": "stream",
     "text": [
      "Epoch: 5 \tLoss: 1.7214401\n",
      "Epoch: 10 \tLoss: 1.2788838\n",
      "Epoch: 15 \tLoss: 1.038627\n",
      "Epoch: 20 \tLoss: 0.8939491\n",
      "Epoch: 25 \tLoss: 0.798345\n",
      "최적화 완료\n",
      "정확도: 0.8402\n"
     ]
    }
   ],
   "source": [
    "# train\n",
    "init = tf.global_variables_initializer()\n",
    "\n",
    "with tf.Session() as sess:\n",
    "    # init\n",
    "    sess.run(init)\n",
    "    \n",
    "    # train\n",
    "    batch_size = 100  # batch size hyper_parameter\n",
    "    total_batch = int( len(X_train)/batch_size )  ### total batch: number of batches\n",
    "    losses = []  # init loss list\n",
    "    for epoch in range(training_epochs):\n",
    "        # get loss in sess.run\n",
    "        _, l = sess.run([optimizer, loss], feed_dict={tf_X:X_train, tf_Y:Y_train})\n",
    "        losses.append(l)  # save loss\n",
    "\n",
    "        if (epoch + 1) % display_step == 0:\n",
    "            print(\"Epoch:\", epoch + 1, \"\\tLoss:\", l) \n",
    "\n",
    "    print(\"최적화 완료\") \n",
    "\n",
    "    # result\n",
    "    correct_prediction = tf.equal(tf.argmax(pred, 1), tf.argmax(tf_Y, 1))\n",
    "    accuracy = tf.reduce_mean(tf.cast(correct_prediction, tf.float32))\n",
    "    test_accuracy, y_test_pred = sess.run([accuracy, pred], feed_dict={tf_X: X_test, tf_Y: Y_test})\n",
    "    print(\"정확도:\", test_accuracy) "
   ]
  },
  {
   "cell_type": "markdown",
   "metadata": {
    "slideshow": {
     "slide_type": "slide"
    }
   },
   "source": [
    "# Train and result (with batch - 3) - DO NOT EXECUTE"
   ]
  },
  {
   "cell_type": "code",
   "execution_count": null,
   "metadata": {
    "slideshow": {
     "slide_type": "-"
    }
   },
   "outputs": [],
   "source": [
    "# train\n",
    "init = tf.global_variables_initializer()\n",
    "\n",
    "with tf.Session() as sess:\n",
    "    # init\n",
    "    sess.run(init)\n",
    "    \n",
    "    # train\n",
    "    batch_size = 100  # batch size hyper_parameter\n",
    "    total_batch = int( len(X_train)/batch_size )  # total batch: number of batches\n",
    "    losses = []  # init loss list\n",
    "    for epoch in range(0, training_epochs):\n",
    "        for i in range(total_batch):\n",
    "            # get loss in sess.run\n",
    "            _, l = sess.run([optimizer, loss], feed_dict={tf_X: X_train, tf_Y: Y_train}) \n",
    "        losses.append(l)  # save loss\n",
    "\n",
    "        if (epoch + 1) % display_step == 0:\n",
    "            print(\"Epoch:\", epoch + 1, \"\\tLoss:\", l) \n",
    "\n",
    "\n",
    "    print(\"최적화 완료\") \n",
    "\n",
    "    # result\n",
    "    correct_prediction = tf.equal(tf.argmax(pred, 1), tf.argmax(tf_Y, 1))\n",
    "    accuracy = tf.reduce_mean(tf.cast(correct_prediction, tf.float32))\n",
    "    test_accuracy, y_test_pred = sess.run([accuracy, pred], \n",
    "                                          feed_dict={tf_X: X_test, tf_Y: Y_test})\n",
    "    print(\"정확도:\", test_accuracy) "
   ]
  },
  {
   "cell_type": "markdown",
   "metadata": {
    "slideshow": {
     "slide_type": "slide"
    }
   },
   "source": [
    "# Train and result (with batch - 4)"
   ]
  },
  {
   "cell_type": "code",
   "execution_count": 14,
   "metadata": {
    "slideshow": {
     "slide_type": "-"
    }
   },
   "outputs": [
    {
     "name": "stdout",
     "output_type": "stream",
     "text": [
      "Epoch: 5 \tLoss: 0.21676514\n",
      "Epoch: 10 \tLoss: 0.17141205\n",
      "Epoch: 15 \tLoss: 0.15430993\n",
      "Epoch: 20 \tLoss: 0.14201389\n",
      "Epoch: 25 \tLoss: 0.12961638\n",
      "최적화 완료\n",
      "정확도: 0.9778\n"
     ]
    }
   ],
   "source": [
    "# train\n",
    "init = tf.global_variables_initializer()\n",
    "\n",
    "with tf.Session() as sess:\n",
    "    # init\n",
    "    sess.run(init)\n",
    "    \n",
    "    # train\n",
    "    batch_size = 100  # batch size hyper_parameter\n",
    "    total_batch = int( len(X_train)/batch_size )  # total batch: number of batches\n",
    "    losses = []  # init loss list\n",
    "    for epoch in range(0, training_epochs):\n",
    "        for i in range(total_batch):\n",
    "            ### get batch\n",
    "            x_batch = X_train[i*batch_size:(i+1)*batch_size]\n",
    "            y_batch = Y_train[i*batch_size:(i+1)*batch_size]\n",
    "\n",
    "            # get loss in sess.run ### batch input\n",
    "            _, l = sess.run([optimizer, loss], feed_dict={tf_X: x_batch, tf_Y: y_batch}) \n",
    "        losses.append(l)  # save loss\n",
    "\n",
    "        if (epoch + 1) % display_step == 0:\n",
    "            print(\"Epoch:\", epoch + 1, \"\\tLoss:\", l) \n",
    "\n",
    "    print(\"최적화 완료\") \n",
    "\n",
    "    # result\n",
    "    correct_prediction = tf.equal(tf.argmax(pred, 1), tf.argmax(tf_Y, 1))\n",
    "    accuracy = tf.reduce_mean(tf.cast(correct_prediction, tf.float32))\n",
    "    test_accuracy, y_test_pred = sess.run([accuracy, pred], \n",
    "                                          feed_dict={tf_X: X_test, tf_Y: Y_test})\n",
    "    print(\"정확도:\", test_accuracy) "
   ]
  },
  {
   "cell_type": "code",
   "execution_count": 15,
   "metadata": {
    "slideshow": {
     "slide_type": "subslide"
    }
   },
   "outputs": [
    {
     "data": {
      "image/png": "[encoded data removed]",
      "text/plain": [
       "<Figure size 432x288 with 1 Axes>"
      ]
     },
     "metadata": {
      "needs_background": "light"
     },
     "output_type": "display_data"
    },
    {
     "data": {
      "text/plain": [
       "array([[ 969,    0,    5,    0,    0,    3,    7,    1,    3,    3],\n",
       "       [   0, 1124,    1,    0,    0,    1,    3,    5,    0,    3],\n",
       "       [   1,    3, 1010,    4,    2,    0,    2,   10,    5,    0],\n",
       "       [   2,    2,    3,  993,    1,    4,    0,    3,    5,    4],\n",
       "       [   1,    0,    2,    0,  961,    2,    4,    1,    4,    8],\n",
       "       [   4,    1,    0,    5,    1,  876,   12,    1,    4,    5],\n",
       "       [   0,    2,    1,    0,    4,    3,  928,    0,    2,    1],\n",
       "       [   1,    1,    4,    2,    1,    1,    1,  992,    4,    4],\n",
       "       [   1,    2,    6,    1,    2,    1,    1,    2,  945,    1],\n",
       "       [   1,    0,    0,    5,   10,    1,    0,   13,    2,  980]])"
      ]
     },
     "execution_count": 15,
     "metadata": {},
     "output_type": "execute_result"
    }
   ],
   "source": [
    "# plot losses\n",
    "plt.figure()\n",
    "plt.plot(losses)\n",
    "plt.show()\n",
    "\n",
    "# print confusion matrix\n",
    "confusion_matrix(np.argmax(y_test_pred, 1), y_test)"
   ]
  },
  {
   "cell_type": "markdown",
   "metadata": {
    "slideshow": {
     "slide_type": "slide"
    }
   },
   "source": [
    "# Train and result (with batch - 5)"
   ]
  },
  {
   "cell_type": "code",
   "execution_count": 16,
   "metadata": {
    "slideshow": {
     "slide_type": "-"
    }
   },
   "outputs": [
    {
     "name": "stdout",
     "output_type": "stream",
     "text": [
      "Epoch: 5 \tLoss: 0.22533526\n",
      "Epoch: 10 \tLoss: 0.18552819\n",
      "Epoch: 15 \tLoss: 0.17070657\n",
      "Epoch: 20 \tLoss: 0.1594526\n",
      "Epoch: 25 \tLoss: 0.14810205\n",
      "최적화 완료\n",
      "정확도: 0.9781\n"
     ]
    }
   ],
   "source": [
    "# train\n",
    "init = tf.global_variables_initializer()\n",
    "\n",
    "with tf.Session() as sess:\n",
    "    # init\n",
    "    sess.run(init)\n",
    "    \n",
    "    # train\n",
    "    batch_size = 100  # batch size hyper_parameter\n",
    "    total_batch = int( len(X_train)/batch_size )  # total batch: number of batches\n",
    "    losses = []  # init loss list\n",
    "    for epoch in range(0, training_epochs):\n",
    "        ### shuffle\n",
    "        idx = np.random.permutation(len(X_train))\n",
    "        shuffled_X_train = X_train[idx]\n",
    "        shuffled_Y_train = Y_train[idx]\n",
    "        \n",
    "        for i in range(total_batch):\n",
    "            # get batch\n",
    "            x_batch = X_train[i*batch_size:(i+1)*batch_size]\n",
    "            y_batch = Y_train[i*batch_size:(i+1)*batch_size]\n",
    "\n",
    "            # get loss in sess.run # batch input\n",
    "            _, l = sess.run([optimizer, loss], feed_dict={tf_X: x_batch, tf_Y: y_batch}) \n",
    "        losses.append(l)  # save loss\n",
    "\n",
    "        if (epoch + 1) % display_step == 0:\n",
    "            print(\"Epoch:\", epoch + 1, \"\\tLoss:\", l) \n",
    "\n",
    "    print(\"최적화 완료\") \n",
    "\n",
    "    # result\n",
    "    correct_prediction = tf.equal(tf.argmax(pred, 1), tf.argmax(tf_Y, 1))\n",
    "    accuracy = tf.reduce_mean(tf.cast(correct_prediction, tf.float32))\n",
    "    test_accuracy, y_test_pred = sess.run([accuracy, pred], \n",
    "                                          feed_dict={tf_X: X_test, tf_Y: Y_test})\n",
    "    print(\"정확도:\", test_accuracy) "
   ]
  },
  {
   "cell_type": "code",
   "execution_count": 17,
   "metadata": {
    "slideshow": {
     "slide_type": "subslide"
    }
   },
   "outputs": [
    {
     "data": {
      "image/png": "[encoded data removed]",
      "text/plain": [
       "<Figure size 432x288 with 1 Axes>"
      ]
     },
     "metadata": {
      "needs_background": "light"
     },
     "output_type": "display_data"
    },
    {
     "data": {
      "text/plain": [
       "array([[ 974,    0,    6,    0,    2,    3,    7,    2,    3,    3],\n",
       "       [   0, 1125,    1,    0,    0,    0,    3,    6,    1,    2],\n",
       "       [   1,    3, 1007,    5,    2,    0,    1,   10,    4,    0],\n",
       "       [   1,    1,    1,  996,    1,    6,    0,    2,    8,    5],\n",
       "       [   0,    0,    2,    0,  960,    0,    4,    2,    4,    8],\n",
       "       [   1,    1,    0,    1,    1,  875,    9,    1,    4,    4],\n",
       "       [   0,    2,    3,    0,    4,    4,  932,    0,    4,    1],\n",
       "       [   1,    1,    5,    3,    0,    1,    0,  992,    4,    4],\n",
       "       [   1,    2,    7,    2,    2,    2,    2,    1,  938,    0],\n",
       "       [   1,    0,    0,    3,   10,    1,    0,   12,    4,  982]])"
      ]
     },
     "execution_count": 17,
     "metadata": {},
     "output_type": "execute_result"
    }
   ],
   "source": [
    "# plot losses\n",
    "plt.figure()\n",
    "plt.plot(losses)\n",
    "plt.show()\n",
    "\n",
    "# print confusion matrix\n",
    "confusion_matrix(np.argmax(y_test_pred, 1), y_test)"
   ]
  },
  {
   "cell_type": "markdown",
   "metadata": {
    "slideshow": {
     "slide_type": "slide"
    }
   },
   "source": [
    "# Train and result (with batch - iteration losses)"
   ]
  },
  {
   "cell_type": "code",
   "execution_count": 18,
   "metadata": {
    "slideshow": {
     "slide_type": "-"
    }
   },
   "outputs": [
    {
     "name": "stdout",
     "output_type": "stream",
     "text": [
      "Epoch: 5 \tLoss: 0.07881811\n",
      "Epoch: 10 \tLoss: 0.11108452\n",
      "Epoch: 15 \tLoss: 0.059422053\n",
      "Epoch: 20 \tLoss: 0.045476165\n",
      "Epoch: 25 \tLoss: 0.026607491\n",
      "최적화 완료\n",
      "정확도: 0.9775\n"
     ]
    }
   ],
   "source": [
    "# train\n",
    "init = tf.global_variables_initializer()\n",
    "\n",
    "with tf.Session() as sess:\n",
    "    # init\n",
    "    sess.run(init)\n",
    "    \n",
    "    # train\n",
    "    batch_size = 100  # batch size hyper_parameter\n",
    "    total_batch = int( len(X_train)/batch_size )  # total batch: number of batches\n",
    "    losses = []  # init loss list\n",
    "    iteration_losses = [] ### init iteration losses\n",
    "    for epoch in range(0, training_epochs):\n",
    "        # shuffle\n",
    "        idx = np.random.permutation(len(X_train))\n",
    "        shuffled_X_train = X_train[idx]\n",
    "        shuffled_Y_train = Y_train[idx]\n",
    "        \n",
    "        for i in range(total_batch):\n",
    "            # get batch\n",
    "            x_batch = shuffled_X_train[i*batch_size:(i+1)*batch_size]\n",
    "            y_batch = shuffled_Y_train[i*batch_size:(i+1)*batch_size]\n",
    "            \n",
    "            # get loss in sess.run # batch input\n",
    "            _, l = sess.run([optimizer, loss], feed_dict={tf_X: x_batch, tf_Y: y_batch}) \n",
    "            iteration_losses.append(l)  ### save iteration loss\n",
    "        losses.append(l)  # save loss\n",
    "\n",
    "        if (epoch + 1) % display_step == 0:\n",
    "            print(\"Epoch:\", epoch + 1, \"\\tLoss:\", l) \n",
    "\n",
    "    print(\"최적화 완료\") \n",
    "\n",
    "    # result\n",
    "    correct_prediction = tf.equal(tf.argmax(pred, 1), tf.argmax(tf_Y, 1))\n",
    "    accuracy = tf.reduce_mean(tf.cast(correct_prediction, tf.float32))\n",
    "    test_accuracy, y_test_pred = sess.run([accuracy, pred], \n",
    "                                          feed_dict={tf_X: X_test, tf_Y: Y_test})\n",
    "    print(\"정확도:\", test_accuracy) "
   ]
  },
  {
   "cell_type": "code",
   "execution_count": 19,
   "metadata": {
    "slideshow": {
     "slide_type": "subslide"
    }
   },
   "outputs": [
    {
     "data": {
      "image/png": "[encoded data removed]",
      "text/plain": [
       "<Figure size 432x288 with 1 Axes>"
      ]
     },
     "metadata": {
      "needs_background": "light"
     },
     "output_type": "display_data"
    },
    {
     "data": {
      "image/png": "[encoded data removed]",
      "text/plain": [
       "<Figure size 432x288 with 1 Axes>"
      ]
     },
     "metadata": {
      "needs_background": "light"
     },
     "output_type": "display_data"
    },
    {
     "data": {
      "text/plain": [
       "array([[ 966,    0,    3,    0,    1,    3,    6,    1,    3,    3],\n",
       "       [   0, 1124,    1,    0,    0,    1,    3,    7,    1,    5],\n",
       "       [   1,    2, 1012,    3,    1,    0,    2,   12,    3,    0],\n",
       "       [   1,    2,    1,  991,    1,    7,    1,    1,    4,    7],\n",
       "       [   0,    0,    1,    0,  958,    2,    2,    0,    2,    8],\n",
       "       [   4,    1,    0,    6,    2,  867,    2,    0,    5,    3],\n",
       "       [   4,    2,    2,    0,    4,    4,  938,    0,    2,    1],\n",
       "       [   2,    1,    5,    4,    1,    1,    1,  998,    4,    7],\n",
       "       [   1,    3,    7,    3,    3,    6,    3,    3,  948,    2],\n",
       "       [   1,    0,    0,    3,   11,    1,    0,    6,    2,  973]])"
      ]
     },
     "execution_count": 19,
     "metadata": {},
     "output_type": "execute_result"
    }
   ],
   "source": [
    "# plot losses\n",
    "plt.figure()\n",
    "plt.plot(losses)\n",
    "plt.show()\n",
    "# plot iteration losses\n",
    "plt.figure()\n",
    "plt.plot(iteration_losses)\n",
    "plt.show()\n",
    "\n",
    "# print confusion matrix\n",
    "confusion_matrix(np.argmax(y_test_pred, 1), y_test)"
   ]
  },
  {
   "cell_type": "markdown",
   "metadata": {
    "slideshow": {
     "slide_type": "slide"
    }
   },
   "source": [
    "# Train and result (with batch - epoch losses)"
   ]
  },
  {
   "cell_type": "code",
   "execution_count": 20,
   "metadata": {
    "slideshow": {
     "slide_type": "-"
    }
   },
   "outputs": [
    {
     "name": "stdout",
     "output_type": "stream",
     "text": [
      "Epoch: 5 \tLoss: 0.12954856\n",
      "Epoch: 10 \tLoss: 0.10610951\n",
      "Epoch: 15 \tLoss: 0.074782275\n",
      "Epoch: 20 \tLoss: 0.063277334\n",
      "Epoch: 25 \tLoss: 0.024796475\n",
      "최적화 완료\n",
      "정확도: 0.9775\n"
     ]
    }
   ],
   "source": [
    "# train\n",
    "init = tf.global_variables_initializer()\n",
    "\n",
    "with tf.Session() as sess:\n",
    "    # init\n",
    "    sess.run(init)\n",
    "    \n",
    "    # train\n",
    "    batch_size = 100  # batch size hyper_parameter\n",
    "    total_batch = int( len(X_train)/batch_size )  # total batch: number of batches\n",
    "    losses = []  # init loss list\n",
    "    iteration_losses = [] # init iteration losses\n",
    "    for epoch in range(0, training_epochs):\n",
    "        ### avg loss\n",
    "        avg_loss = 0.\n",
    "        \n",
    "        # shuffle\n",
    "        idx = np.random.permutation(len(X_train))\n",
    "        shuffled_X_train = X_train[idx]\n",
    "        shuffled_Y_train = Y_train[idx]\n",
    "        \n",
    "        for i in range(total_batch):\n",
    "            # get batch\n",
    "            x_batch = shuffled_X_train[i*batch_size:(i+1)*batch_size]\n",
    "            y_batch = shuffled_Y_train[i*batch_size:(i+1)*batch_size]\n",
    "            \n",
    "            # get loss in sess.run # batch input\n",
    "            _, l = sess.run([optimizer, loss], feed_dict={tf_X: x_batch, tf_Y: y_batch}) \n",
    "            iteration_losses.append(l)  ### save iteration loss\n",
    "            avg_loss = avg_loss + l ### avg_loss += l\n",
    "        avg_loss = avg_loss / batch_size  ### avg_loss: average loss of iterations in an epoch\n",
    "        losses.append(avg_loss)  ### save average loss (epoch loss)\n",
    "\n",
    "        if (epoch + 1) % display_step == 0:\n",
    "            print(\"Epoch:\", epoch + 1, \"\\tLoss:\", l) \n",
    "\n",
    "    print(\"최적화 완료\") \n",
    "\n",
    "    # result\n",
    "    correct_prediction = tf.equal(tf.argmax(pred, 1), tf.argmax(tf_Y, 1))\n",
    "    accuracy = tf.reduce_mean(tf.cast(correct_prediction, tf.float32))\n",
    "    test_accuracy, y_test_pred = sess.run([accuracy, pred], \n",
    "                                          feed_dict={tf_X: X_test, tf_Y: Y_test})\n",
    "    print(\"정확도:\", test_accuracy) "
   ]
  },
  {
   "cell_type": "code",
   "execution_count": 21,
   "metadata": {
    "slideshow": {
     "slide_type": "subslide"
    }
   },
   "outputs": [
    {
     "data": {
      "image/png": "[encoded data removed]",
      "text/plain": [
       "<Figure size 432x288 with 1 Axes>"
      ]
     },
     "metadata": {
      "needs_background": "light"
     },
     "output_type": "display_data"
    },
    {
     "data": {
      "image/png": "[encoded data removed]",
      "text/plain": [
       "<Figure size 432x288 with 1 Axes>"
      ]
     },
     "metadata": {
      "needs_background": "light"
     },
     "output_type": "display_data"
    },
    {
     "data": {
      "text/plain": [
       "array([[ 974,    0,    4,    0,    1,    4,    7,    1,    3,    4],\n",
       "       [   0, 1124,    0,    0,    0,    1,    3,    4,    0,    2],\n",
       "       [   1,    2, 1006,    1,    2,    0,    1,    9,    3,    0],\n",
       "       [   1,    2,    4,  998,    1,   11,    1,    7,    6,    7],\n",
       "       [   1,    0,    3,    0,  959,    2,    6,    1,    2,    7],\n",
       "       [   2,    1,    0,    1,    0,  863,    4,    0,    4,    2],\n",
       "       [   0,    2,    2,    0,    3,    5,  930,    0,    1,    0],\n",
       "       [   1,    1,    4,    4,    0,    1,    0,  992,    4,    4],\n",
       "       [   0,    3,    9,    3,    1,    4,    6,    5,  948,    2],\n",
       "       [   0,    0,    0,    3,   15,    1,    0,    9,    3,  981]])"
      ]
     },
     "execution_count": 21,
     "metadata": {},
     "output_type": "execute_result"
    }
   ],
   "source": [
    "# plot losses\n",
    "plt.figure()\n",
    "plt.plot(losses)\n",
    "plt.show()\n",
    "# plot iteration losses\n",
    "plt.figure()\n",
    "plt.plot(iteration_losses)\n",
    "plt.show()\n",
    "\n",
    "# print confusion matrix\n",
    "confusion_matrix(np.argmax(y_test_pred, 1), y_test)"
   ]
  },
  {
   "cell_type": "markdown",
   "metadata": {
    "slideshow": {
     "slide_type": "slide"
    }
   },
   "source": [
    "# Sum-up"
   ]
  },
  {
   "cell_type": "code",
   "execution_count": 22,
   "metadata": {
    "slideshow": {
     "slide_type": "-"
    }
   },
   "outputs": [],
   "source": [
    "#################### hyper parameter setting ####################\n",
    "learning_rate = 1e-2\n",
    "training_epochs = 100\n",
    "display_step = 10\n",
    "\n",
    "### batch_size\n",
    "batch_size = 100\n",
    "\n",
    "# number of hidden layer's node\n",
    "h = 256\n",
    "# activation function\n",
    "act = tf.nn.tanh\n",
    "#################################################################\n",
    "\n",
    "# build model\n",
    "tf.reset_default_graph()\n",
    "\n",
    "# place holder\n",
    "tf_X = tf.placeholder(tf.float32, [None, np.prod(shape)])\n",
    "tf_Y = tf.placeholder(tf.float32, [None, 10])\n",
    "\n",
    "# model\n",
    "hidden1 = tf.layers.dense(tf_X, h, activation=act)\n",
    "pred = tf.layers.dense(hidden1, 10)\n",
    "\n",
    "# cross entropy loss\n",
    "loss = tf.losses.softmax_cross_entropy(tf_Y, pred)\n",
    "optimizer = tf.train.GradientDescentOptimizer(learning_rate).minimize(loss)"
   ]
  },
  {
   "cell_type": "code",
   "execution_count": 23,
   "metadata": {
    "slideshow": {
     "slide_type": "subslide"
    }
   },
   "outputs": [
    {
     "name": "stdout",
     "output_type": "stream",
     "text": [
      "Epoch: 10 \tLoss: 0.18219422\n",
      "Epoch: 20 \tLoss: 0.2719024\n",
      "Epoch: 30 \tLoss: 0.15769516\n",
      "Epoch: 40 \tLoss: 0.12571065\n",
      "Epoch: 50 \tLoss: 0.106625356\n",
      "Epoch: 60 \tLoss: 0.051178064\n",
      "Epoch: 70 \tLoss: 0.08006024\n",
      "Epoch: 80 \tLoss: 0.07225545\n",
      "Epoch: 90 \tLoss: 0.048711073\n",
      "Epoch: 100 \tLoss: 0.06924527\n",
      "최적화 완료\n",
      "정확도: 0.9667\n"
     ]
    }
   ],
   "source": [
    "# train\n",
    "init = tf.global_variables_initializer()\n",
    "\n",
    "with tf.Session() as sess:\n",
    "    # init\n",
    "    sess.run(init)\n",
    "    \n",
    "    # train\n",
    "    batch_size = 100  # batch size hyper_parameter\n",
    "    total_batch = int( len(X_train)/batch_size )  # total batch: number of batches\n",
    "    losses = []  # init loss list\n",
    "    iteration_losses = [] # init iteration losses\n",
    "    for epoch in range(0, training_epochs):\n",
    "        # avg loss\n",
    "        avg_loss = 0.\n",
    "        \n",
    "        # shuffle\n",
    "        idx = np.random.permutation(len(X_train))\n",
    "        shuffled_X_train = X_train[idx]\n",
    "        shuffled_Y_train = Y_train[idx]\n",
    "        \n",
    "        for i in range(total_batch):\n",
    "            # get batch\n",
    "            x_batch = shuffled_X_train[i*batch_size:(i+1)*batch_size]\n",
    "            y_batch = shuffled_Y_train[i*batch_size:(i+1)*batch_size]\n",
    "            \n",
    "            # get loss in sess.run # batch input\n",
    "            _, l = sess.run([optimizer, loss], feed_dict={tf_X: x_batch, tf_Y: y_batch}) \n",
    "            iteration_losses.append(l)  # save iteration loss\n",
    "            avg_loss = avg_loss + l # avg_loss += l\n",
    "        avg_loss = avg_loss / batch_size  # avg_loss: average loss of iterations in an epoch\n",
    "        losses.append(avg_loss)  # save average loss (epoch loss)\n",
    "\n",
    "        if (epoch + 1) % display_step == 0:\n",
    "            print(\"Epoch:\", epoch + 1, \"\\tLoss:\", l) \n",
    "\n",
    "    print(\"최적화 완료\") \n",
    "\n",
    "    # result\n",
    "    correct_prediction = tf.equal(tf.argmax(pred, 1), tf.argmax(tf_Y, 1))\n",
    "    accuracy = tf.reduce_mean(tf.cast(correct_prediction, tf.float32))\n",
    "    test_accuracy, y_test_pred = sess.run([accuracy, pred], feed_dict={tf_X: X_test, tf_Y: Y_test})\n",
    "    print(\"정확도:\", test_accuracy) "
   ]
  },
  {
   "cell_type": "code",
   "execution_count": 24,
   "metadata": {
    "slideshow": {
     "slide_type": "subslide"
    }
   },
   "outputs": [
    {
     "data": {
      "image/png": "[encoded data removed]",
      "text/plain": [
       "<Figure size 432x288 with 1 Axes>"
      ]
     },
     "metadata": {
      "needs_background": "light"
     },
     "output_type": "display_data"
    },
    {
     "data": {
      "image/png": "[encoded data removed]",
      "text/plain": [
       "<Figure size 432x288 with 1 Axes>"
      ]
     },
     "metadata": {
      "needs_background": "light"
     },
     "output_type": "display_data"
    },
    {
     "data": {
      "text/plain": [
       "array([[ 967,    0,    5,    0,    1,    7,    8,    1,    4,    5],\n",
       "       [   0, 1121,    1,    0,    0,    1,    3,    5,    2,    6],\n",
       "       [   1,    3,  994,    4,    5,    1,    2,   15,    2,    1],\n",
       "       [   1,    1,    5,  983,    1,    9,    1,    3,    9,    8],\n",
       "       [   0,    0,    4,    0,  944,    2,    6,    2,    5,   14],\n",
       "       [   5,    1,    0,    6,    0,  855,    8,    1,    5,    4],\n",
       "       [   3,    4,    5,    1,    6,    8,  923,    0,    5,    1],\n",
       "       [   1,    2,    7,    9,    2,    1,    1,  988,    4,    9],\n",
       "       [   2,    3,   11,    5,    3,    6,    6,    1,  935,    4],\n",
       "       [   0,    0,    0,    2,   20,    2,    0,   12,    3,  957]])"
      ]
     },
     "execution_count": 24,
     "metadata": {},
     "output_type": "execute_result"
    }
   ],
   "source": [
    "# plot losses\n",
    "plt.figure()\n",
    "plt.plot(losses)\n",
    "plt.show()\n",
    "# plot iteration losses\n",
    "plt.figure()\n",
    "plt.plot(iteration_losses)\n",
    "plt.show()\n",
    "\n",
    "# print confusion matrix\n",
    "confusion_matrix(np.argmax(y_test_pred, 1), y_test)"
   ]
  },
  {
   "cell_type": "code",
   "execution_count": null,
   "metadata": {
    "slideshow": {
     "slide_type": "skip"
    }
   },
   "outputs": [],
   "source": []
  }
 ],
 "metadata": {
  "celltoolbar": "Slideshow",
  "kernelspec": {
   "display_name": "Python 3",
   "language": "python",
   "name": "python3"
  },
  "language_info": {
   "codemirror_mode": {
    "name": "ipython",
    "version": 3
   },
   "file_extension": ".py",
   "mimetype": "text/x-python",
   "name": "python",
   "nbconvert_exporter": "python",
   "pygments_lexer": "ipython3",
   "version": "3.7.3"
  }
 },
 "nbformat": 4,
 "nbformat_minor": 2
}
