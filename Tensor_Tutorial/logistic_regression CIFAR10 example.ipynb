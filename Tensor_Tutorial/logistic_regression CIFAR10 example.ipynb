{
 "cells": [
  {
   "cell_type": "markdown",
   "metadata": {},
   "source": [
    "# Library"
   ]
  },
  {
   "cell_type": "code",
   "execution_count": 6,
   "metadata": {},
   "outputs": [],
   "source": [
    "import numpy as np\n",
    "import tensorflow as tf\n",
    "from tensorflow.keras.datasets import cifar10"
   ]
  },
  {
   "cell_type": "markdown",
   "metadata": {},
   "source": [
    "# Load data, train/test split, x/y split"
   ]
  },
  {
   "cell_type": "code",
   "execution_count": 7,
   "metadata": {},
   "outputs": [],
   "source": [
    "# load data\n",
    "(x_train, y_train), (x_test, y_test) = cifar10.load_data()"
   ]
  },
  {
   "cell_type": "markdown",
   "metadata": {},
   "source": [
    "# Data shape and preprocess"
   ]
  },
  {
   "cell_type": "code",
   "execution_count": 28,
   "metadata": {},
   "outputs": [
    {
     "name": "stdout",
     "output_type": "stream",
     "text": [
      "y_train shape: (50000, 1)\n",
      "y_test shape: (10000, 1)\n",
      "tf.one_hot 이용\n",
      "(50000, 10) Tensor(\"strided_slice_16:0\", shape=(3, 10), dtype=float32)\n",
      "[[6]\n",
      " [9]\n",
      " [9]]\n",
      "[[0. 0. 0. 0. 0. 0. 1. 0. 0. 0.]\n",
      " [0. 0. 0. 0. 0. 0. 0. 0. 0. 1.]\n",
      " [0. 0. 0. 0. 0. 0. 0. 0. 0. 1.]]\n",
      "numpy 이용\n",
      "(50000, 10)\n",
      "[[0. 0. 0. 0. 0. 0. 1. 0. 0. 0.]\n",
      " [0. 0. 0. 0. 0. 0. 0. 0. 0. 1.]\n",
      " [0. 0. 0. 0. 0. 0. 0. 0. 0. 1.]]\n"
     ]
    }
   ],
   "source": [
    "# data shape\n",
    "shape = x_train.shape[1:]\n",
    "\n",
    "# preprocess (reshape x)\n",
    "X_train = x_train.reshape(-1, np.prod(shape))\n",
    "X_test = x_test.reshape(-1, np.prod(shape))\n",
    "\n",
    "# preprocess (normalize x)\n",
    "X_train = X_train / 255.\n",
    "X_test = X_test / 255.\n",
    "\n",
    "# preprocess (categorical y)\n",
    "print('y_train shape:', y_train.shape) # (50000, 1)\n",
    "print('y_test shape:', y_test.shape) # (10000, 1)\n",
    "\n",
    "    # tf.one_hot 이용\n",
    "print(\"tf.one_hot 이용\")\n",
    "tf.one_hot?\n",
    "tf_Y_train = tf.one_hot(y_train[:,0], 10)\n",
    "with tf.Session() as sess:\n",
    "    print(tf_Y_train.shape, tf_Y_train[:3])\n",
    "    print(y_train[:3])\n",
    "    print(sess.run(tf_Y_train[:3]))\n",
    "    \n",
    "    # numpy 이용\n",
    "print(\"numpy 이용\")\n",
    "Y_train = np.eye(10)[y_train.reshape(-1)]\n",
    "print(Y_train.shape)\n",
    "print(Y_train[:3])"
   ]
  },
  {
   "cell_type": "markdown",
   "metadata": {},
   "source": [
    "# Hyper parameter setting"
   ]
  },
  {
   "cell_type": "code",
   "execution_count": 7,
   "metadata": {},
   "outputs": [],
   "source": [
    "# hyper parameter setting"
   ]
  },
  {
   "cell_type": "markdown",
   "metadata": {},
   "source": [
    "# Model"
   ]
  },
  {
   "cell_type": "code",
   "execution_count": 46,
   "metadata": {},
   "outputs": [],
   "source": [
    "# model\n",
    "\n",
    "# loss function 짜는 법\n",
    "# 1. y placeholder 와 pred 값의 shape 생각해보기 -> (?, 10)\n",
    "# 2. sum_k( y_k * log(pred_k) ) 의 의미 생각해보기\n",
    "# 3. 답지에서의 구현방법: y * pred = [ [0, 0, log(pred_k), 0, 0, 0,..], ... ]\n",
    "#                         shape (?, 10)\n",
    "#                       : tf.reduce_sum(_, axis=1) = [ log(pred_k), ... ]\n",
    "#                         shape (?, )\n",
    "#                       : tf.reduce_mean(_, axis=0) = E[log(pred_k)]\n",
    "#                         shape ()\n",
    "\n",
    "# placeholder\n",
    "tf_X = tf.placeholder(tf.float32, [None, np.prod(shape)])\n",
    "tf_Y = tf.placeholder(tf.float32, [None, 10])\n",
    "# use library\n",
    "y_logit = tf.layers.dense(tf_X, 10)\n",
    "y_pred = tf.nn.softmax(y_logit)\n",
    "\n",
    "loss = tf.losses.softmax_cross_entropy(tf_Y, y_logit)\n",
    "optimizer = tf.train.GradientDescentOptimizer(0.001).minimize(loss)"
   ]
  },
  {
   "cell_type": "markdown",
   "metadata": {},
   "source": [
    "# Train"
   ]
  },
  {
   "cell_type": "code",
   "execution_count": 53,
   "metadata": {},
   "outputs": [
    {
     "name": "stdout",
     "output_type": "stream",
     "text": [
      "0\n",
      "1\n",
      "2\n",
      "3\n",
      "4\n",
      "5\n",
      "6\n",
      "7\n",
      "8\n",
      "9\n"
     ]
    }
   ],
   "source": [
    "# training\n",
    "init = tf.global_variables_initializer()\n",
    "\n",
    "with tf.Session() as sess:\n",
    "    sess.run(init)\n",
    "\n",
    "    for i in range(10):\n",
    "        print(i)\n",
    "        sess.run(optimizer, feed_dict={tf_X:X_train, tf_Y:Y_train})\n",
    "    y_pred_numpy_onehot = sess.run(y_pred, feed_dict={tf_X:X_test})"
   ]
  },
  {
   "cell_type": "markdown",
   "metadata": {},
   "source": [
    "# Confusion matrix"
   ]
  },
  {
   "cell_type": "code",
   "execution_count": 56,
   "metadata": {},
   "outputs": [
    {
     "data": {
      "text/plain": [
       "array([[ 17,   0,   2, 152,  15,   0,  27, 565,  11, 211],\n",
       "       [ 46,   3,  13, 248,  27,   0, 109, 318,   7, 229],\n",
       "       [ 41,   1,   3, 127,  49,   0,  47, 549,   6, 177],\n",
       "       [ 42,   6,   4, 179,  40,   0,  41, 466,  23, 199],\n",
       "       [ 27,   0,   1, 158,  19,   0,  32, 570,   6, 187],\n",
       "       [ 41,   1,   3, 165,  24,   0,  38, 457,  35, 236],\n",
       "       [ 32,   2,   3, 210,  54,   0,  72, 415,  14, 198],\n",
       "       [ 41,   0,   0, 133,  32,   0,  57, 421,  17, 299],\n",
       "       [ 25,   3,   0, 295,  21,   0,  47, 284,  14, 311],\n",
       "       [ 56,   1,   0, 256,  34,   0,  65, 201,   8, 379]])"
      ]
     },
     "execution_count": 56,
     "metadata": {},
     "output_type": "execute_result"
    }
   ],
   "source": [
    "# confusion matrix\n",
    "from sklearn.metrics import confusion_matrix\n",
    "y_pred_numpy_label = np.argmax(y_pred_numpy_onehot, axis=1)\n",
    "confusion_matrix(y_test, y_pred_numpy_label)"
   ]
  },
  {
   "cell_type": "code",
   "execution_count": null,
   "metadata": {},
   "outputs": [],
   "source": []
  }
 ],
 "metadata": {
  "kernelspec": {
   "display_name": "tf_1.12",
   "language": "python",
   "name": "tf_1.12"
  },
  "language_info": {
   "codemirror_mode": {
    "name": "ipython",
    "version": 3
   },
   "file_extension": ".py",
   "mimetype": "text/x-python",
   "name": "python",
   "nbconvert_exporter": "python",
   "pygments_lexer": "ipython3",
   "version": "3.6.8"
  }
 },
 "nbformat": 4,
 "nbformat_minor": 2
}
