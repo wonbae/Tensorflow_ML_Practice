{
 "cells": [
  {
   "cell_type": "markdown",
   "metadata": {},
   "source": [
    "# Library"
   ]
  },
  {
   "cell_type": "code",
   "execution_count": 6,
   "metadata": {},
   "outputs": [],
   "source": [
    "import numpy as np\n",
    "import tensorflow as tf\n",
    "from tensorflow.keras.datasets import cifar10"
   ]
  },
  {
   "cell_type": "markdown",
   "metadata": {},
   "source": [
    "# Load data, train/test split, x/y split"
   ]
  },
  {
   "cell_type": "code",
   "execution_count": 7,
   "metadata": {},
   "outputs": [],
   "source": [
    "# load data\n",
    "(x_train, y_train), (x_test, y_test) = cifar10.load_data()"
   ]
  },
  {
   "cell_type": "markdown",
   "metadata": {},
   "source": [
    "# Data shape and preprocess"
   ]
  },
  {
   "cell_type": "code",
   "execution_count": 28,
   "metadata": {},
   "outputs": [
    {
     "name": "stdout",
     "output_type": "stream",
     "text": [
      "y_train shape: (50000, 1)\n",
      "y_test shape: (10000, 1)\n",
      "tf.one_hot 이용\n",
      "(50000, 10) Tensor(\"strided_slice_16:0\", shape=(3, 10), dtype=float32)\n",
      "[[6]\n",
      " [9]\n",
      " [9]]\n",
      "[[0. 0. 0. 0. 0. 0. 1. 0. 0. 0.]\n",
      " [0. 0. 0. 0. 0. 0. 0. 0. 0. 1.]\n",
      " [0. 0. 0. 0. 0. 0. 0. 0. 0. 1.]]\n",
      "numpy 이용\n",
      "(50000, 10)\n",
      "[[0. 0. 0. 0. 0. 0. 1. 0. 0. 0.]\n",
      " [0. 0. 0. 0. 0. 0. 0. 0. 0. 1.]\n",
      " [0. 0. 0. 0. 0. 0. 0. 0. 0. 1.]]\n"
     ]
    }
   ],
   "source": [
    "# data shape\n",
    "shape = x_train.shape[1:]\n",
    "\n",
    "# preprocess (reshape x)\n",
    "X_train = x_train.reshape(-1, np.prod(shape))\n",
    "X_test = x_test.reshape(-1, np.prod(shape))\n",
    "\n",
    "# preprocess (normalize x)\n",
    "X_train = X_train / 255.\n",
    "X_test = X_test / 255.\n",
    "\n",
    "# preprocess (categorical y)\n",
    "print('y_train shape:', y_train.shape) # (50000, 1)\n",
    "print('y_test shape:', y_test.shape) # (10000, 1)\n",
    "\n",
    "    # tf.one_hot 이용\n",
    "print(\"tf.one_hot 이용\")\n",
    "tf.one_hot?\n",
    "tf_Y_train = tf.one_hot(y_train[:,0], 10)\n",
    "with tf.Session() as sess:\n",
    "    print(tf_Y_train.shape, tf_Y_train[:3])\n",
    "    print(y_train[:3])\n",
    "    print(sess.run(tf_Y_train[:3]))\n",
    "    \n",
    "    # numpy 이용\n",
    "print(\"numpy 이용\")\n",
    "Y_train = np.eye(10)[y_train.reshape(-1)]\n",
    "print(Y_train.shape)\n",
    "print(Y_train[:3])"
   ]
  },
  {
   "cell_type": "markdown",
   "metadata": {},
   "source": [
    "# Hyper parameter setting"
   ]
  },
  {
   "cell_type": "code",
   "execution_count": 7,
   "metadata": {},
   "outputs": [],
   "source": [
    "# hyper parameter setting"
   ]
  },
  {
   "cell_type": "markdown",
   "metadata": {},
   "source": [
    "# Model"
   ]
  },
  {
   "cell_type": "code",
   "execution_count": 8,
   "metadata": {},
   "outputs": [],
   "source": [
    "# model\n",
    "\n",
    "# loss function 짜는 법\n",
    "# 1. y placeholder 와 pred 값의 shape 생각해보기 -> (?, 10)\n",
    "# 2. sum_k( y_k * log(pred_k) ) 의 의미 생각해보기\n",
    "# 3. 답지에서의 구현방법: y * pred = [ [0, 0, log(pred_k), 0, 0, 0,..], ... ]\n",
    "#                         shape (?, 10)\n",
    "#                       : tf.reduce_sum(_, axis=1) = [ log(pred_k), ... ]\n",
    "#                         shape (?, )\n",
    "#                       : tf.reduce_mean(_, axis=0) = E[log(pred_k)]\n",
    "#                         shape ()"
   ]
  },
  {
   "cell_type": "markdown",
   "metadata": {},
   "source": [
    "# Train"
   ]
  },
  {
   "cell_type": "code",
   "execution_count": 9,
   "metadata": {},
   "outputs": [],
   "source": [
    "# training"
   ]
  },
  {
   "cell_type": "markdown",
   "metadata": {},
   "source": [
    "# Confusion matrix"
   ]
  },
  {
   "cell_type": "code",
   "execution_count": 10,
   "metadata": {},
   "outputs": [],
   "source": [
    "# confusion matrix"
   ]
  },
  {
   "cell_type": "code",
   "execution_count": null,
   "metadata": {},
   "outputs": [],
   "source": []
  }
 ],
 "metadata": {
  "kernelspec": {
   "display_name": "Python 3",
   "language": "python",
   "name": "python3"
  },
  "language_info": {
   "codemirror_mode": {
    "name": "ipython",
    "version": 3
   },
   "file_extension": ".py",
   "mimetype": "text/x-python",
   "name": "python",
   "nbconvert_exporter": "python",
   "pygments_lexer": "ipython3",
   "version": "3.7.3"
  }
 },
 "nbformat": 4,
 "nbformat_minor": 2
}
