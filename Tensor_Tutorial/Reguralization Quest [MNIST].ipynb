{
 "cells": [
  {
   "cell_type": "markdown",
   "metadata": {},
   "source": [
    "# Reguralization (Dropout, Normalization)"
   ]
  },
  {
   "cell_type": "markdown",
   "metadata": {},
   "source": [
    "# Library"
   ]
  },
  {
   "cell_type": "code",
   "execution_count": null,
   "metadata": {},
   "outputs": [],
   "source": [
    "import numpy as np\n",
    "import tensorflow as tf\n",
    "\n",
    "from matplotlib import pyplot as plt\n",
    "from sklearn.metrics import confusion_matrix"
   ]
  },
  {
   "cell_type": "markdown",
   "metadata": {},
   "source": [
    "# Load Dataset and Preprocess"
   ]
  },
  {
   "cell_type": "code",
   "execution_count": null,
   "metadata": {},
   "outputs": [],
   "source": [
    "from tensorflow.keras.datasets import mnist as data\n",
    "\n",
    "# load dataset\n",
    "(x_train, y_train), (x_test, y_test) = data.load_data()\n",
    "print(x_train.shape, y_train.shape, x_test.shape, y_test.shape)\n",
    "\n",
    "train_n_sample = len(x_train)\n",
    "shape = x_train[0].shape[0:]\n",
    "n_class = len(np.unique(y_train))\n",
    "print(train_n_sample, shape, n_class)\n",
    "\n",
    "# x reshape and x normalization\n",
    "X_train = x_train.reshape(-1, np.prod(shape)) / 255.\n",
    "X_test = x_test.reshape(-1, np.prod(shape)) / 255.\n",
    "\n",
    "# y onehot\n",
    "Y_train = np.eye(n_class)[y_train.reshape(-1)]\n",
    "Y_test = np.eye(n_class)[y_test.reshape(-1)]\n",
    "\n",
    "print(X_train.shape, X_test.shape, Y_train.shape, Y_test.shape)"
   ]
  },
  {
   "cell_type": "markdown",
   "metadata": {},
   "source": [
    "# Multi-Layer Perceptron (MLP) with Regularization"
   ]
  },
  {
   "cell_type": "markdown",
   "metadata": {},
   "source": [
    "## Hyper-parameter setting"
   ]
  },
  {
   "cell_type": "code",
   "execution_count": null,
   "metadata": {},
   "outputs": [],
   "source": [
    "# hyper parameter setting\n",
    "training_epochs = 100\n",
    "learning_rate = 1e-1\n",
    "display_step = 10\n",
    "\n",
    "batch_size = 100\n",
    "\n",
    "hidden_nodes = [1024, 300]\n",
    "activation = tf.nn.tanh\n",
    "# norm\n",
    "\n",
    "# dropout rate\n"
   ]
  },
  {
   "cell_type": "markdown",
   "metadata": {},
   "source": [
    "## Build Model"
   ]
  },
  {
   "cell_type": "code",
   "execution_count": null,
   "metadata": {},
   "outputs": [],
   "source": [
    "# build 3-layer fully-connected neural network model\n",
    "# hidden layers' size is [1024, 300]\n",
    "tf.reset_default_graph()\n",
    "\n",
    "# placeholder\n",
    "tf_X = tf.placeholder(tf.float32, (None, np.prod(shape)))\n",
    "tf_Y = tf.placeholder(tf.float32, (None, n_class))\n",
    "\n",
    "# model\n",
    "hidden1 = tf.layers.dense(tf_X, hidden_nodes[0])\n",
    "# norm, dropout\n",
    "\n",
    "hidden2 = tf.layers.dense(hidden1, hidden_nodes[2])\n",
    "# norm, dropout\n",
    "\n",
    "logit = tf.layers.dense(hidden2, n_class)\n",
    "pred = tf.nn.softmax(logit)\n",
    "\n",
    "# loss and optimizer\n",
    "loss = tf.losses.softmax_cross_entropy(tf_Y, logit)\n",
    "# batch norm optimizer\n",
    "optimizer = tf.train.GradientDescentOptimizer(learning_rate).minimize(loss) DON_T USE THIS"
   ]
  },
  {
   "cell_type": "markdown",
   "metadata": {},
   "source": [
    "## Train model"
   ]
  },
  {
   "cell_type": "code",
   "execution_count": null,
   "metadata": {},
   "outputs": [],
   "source": [
    "with tf.Session() as sess:\n",
    "    # init\n",
    "    sess.run(tf.global_variables_initializer())\n",
    "\n",
    "    # train\n",
    "    epoch_losses, iter_losses = [], []\n",
    "    total_batch = int( train_n_sample / batch_size )\n",
    "    for epoch in range(training_epochs):\n",
    "        # shuffle\n",
    "        random_idx = np.random.permutation(train_n_sample)\n",
    "        shuffled_X_train = X_train[random_idx]\n",
    "        shuffled_Y_train = Y_train[random_idx]\n",
    "\n",
    "        for i in range(total_batch):\n",
    "            # get batch\n",
    "            batch_X_train = shuffled_X_train[i*batch_size : (i+1)*batch_size]\n",
    "            batch_Y_train = shuffled_Y_train[i*batch_size : (i+1)*batch_size]\n",
    "\n",
    "            _, l = sess.run([optimizer, loss], \n",
    "                            feed_dict = {tf_X:batch_X_train, tf_Y:batch_Y_train})\n",
    "            iter_losses.append(l)\n",
    "        epoch_losses.append(np.mean(iter_losses[-total_batch:]))\n",
    "\n",
    "        if (epoch + 1) % display_step == 0:\n",
    "            print('Epoch: {}, \\t Loss: {}'.format(epoch+1, epoch_losses[-1]))\n",
    "\n",
    "    # result\n",
    "    train_pred = sess.run(pred, feed_dict={tf_X:X_train})\n",
    "    test_pred = sess.run(pred, feed_dict={tf_X:X_test})\n",
    "\n",
    "    # save\n",
    "    saver = tf.train.Saver()\n",
    "    saver.save(sess, 'model')"
   ]
  },
  {
   "cell_type": "markdown",
   "metadata": {},
   "source": [
    "## Plot result"
   ]
  },
  {
   "cell_type": "code",
   "execution_count": null,
   "metadata": {},
   "outputs": [],
   "source": [
    "# plot epoch losses\n",
    "def plot_epoch_losses(epoch_losses):\n",
    "    plt.figure()\n",
    "    plt.plot(epoch_losses)\n",
    "    plt.show()\n",
    "plot_epoch_losses(epoch_losses)\n",
    "\n",
    "# accuracy\n",
    "def print_accuracy(label, pred, name=''):\n",
    "    accuracy = np.mean(label==pred)\n",
    "    print(name, ' accuracy: ', accuracy)\n",
    "print_accuracy(y_train.reshape(-1), np.argmax(train_pred, axis=1), 'train')\n",
    "print_accuracy(y_test.reshape(-1), np.argmax(test_pred, axis=1), 'test')\n",
    "\n",
    "# confusion matrix\n",
    "def print_confusion_matrix(label, pred):\n",
    "    matrix = confusion_matrix(label, pred)\n",
    "    print(matrix)\n",
    "print_confusion_matrix(y_test.reshape(-1), np.argmax(test_pred, axis=1))"
   ]
  }
 ],
 "metadata": {
  "kernelspec": {
   "display_name": "Python 3",
   "language": "python",
   "name": "python3"
  },
  "language_info": {
   "codemirror_mode": {
    "name": "ipython",
    "version": 3
   },
   "file_extension": ".py",
   "mimetype": "text/x-python",
   "name": "python",
   "nbconvert_exporter": "python",
   "pygments_lexer": "ipython3",
   "version": "3.7.3"
  }
 },
 "nbformat": 4,
 "nbformat_minor": 2
}
