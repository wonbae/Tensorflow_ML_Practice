{
 "cells": [
  {
   "cell_type": "markdown",
   "metadata": {},
   "source": [
    "# Library"
   ]
  },
  {
   "cell_type": "code",
   "execution_count": 2,
   "metadata": {},
   "outputs": [],
   "source": [
    "import numpy as np\n",
    "from sklearn import datasets\n",
    "import matplotlib.pyplot as plt\n",
    "import tensorflow as tf"
   ]
  },
  {
   "cell_type": "markdown",
   "metadata": {},
   "source": [
    "# Diabetes datasets\n",
    "10 dimension -> 1 dimension dataset"
   ]
  },
  {
   "cell_type": "code",
   "execution_count": 4,
   "metadata": {},
   "outputs": [
    {
     "name": "stdout",
     "output_type": "stream",
     "text": [
      "데이터 (Data):  (442, 10)\n",
      "[[ 0.03807591  0.05068012  0.06169621 ... -0.00259226  0.01990842\n",
      "  -0.01764613]\n",
      " [-0.00188202 -0.04464164 -0.05147406 ... -0.03949338 -0.06832974\n",
      "  -0.09220405]\n",
      " [ 0.08529891  0.05068012  0.04445121 ... -0.00259226  0.00286377\n",
      "  -0.02593034]\n",
      " ...\n",
      " [ 0.04170844  0.05068012 -0.01590626 ... -0.01107952 -0.04687948\n",
      "   0.01549073]\n",
      " [-0.04547248 -0.04464164  0.03906215 ...  0.02655962  0.04452837\n",
      "  -0.02593034]\n",
      " [-0.04547248 -0.04464164 -0.0730303  ... -0.03949338 -0.00421986\n",
      "   0.00306441]]\n",
      "\n",
      "함수값 (Responses):  (442,)\n",
      "[151.  75. 141. 206. 135.  97. 138.  63. 110. 310. 101.  69. 179. 185.\n",
      " 118. 171. 166. 144.  97. 168.  68.  49.  68. 245. 184. 202. 137.  85.\n",
      " 131. 283. 129.  59. 341.  87.  65. 102. 265. 276. 252.  90. 100.  55.\n",
      "  61.  92. 259.  53. 190. 142.  75. 142. 155. 225.  59. 104. 182. 128.\n",
      "  52.  37. 170. 170.  61. 144.  52. 128.  71. 163. 150.  97. 160. 178.\n",
      "  48. 270. 202. 111.  85.  42. 170. 200. 252. 113. 143.  51.  52. 210.\n",
      "  65. 141.  55. 134.  42. 111.  98. 164.  48.  96.  90. 162. 150. 279.\n",
      "  92.  83. 128. 102. 302. 198.  95.  53. 134. 144. 232.  81. 104.  59.\n",
      " 246. 297. 258. 229. 275. 281. 179. 200. 200. 173. 180.  84. 121. 161.\n",
      "  99. 109. 115. 268. 274. 158. 107.  83. 103. 272.  85. 280. 336. 281.\n",
      " 118. 317. 235.  60. 174. 259. 178. 128.  96. 126. 288.  88. 292.  71.\n",
      " 197. 186.  25.  84.  96. 195.  53. 217. 172. 131. 214.  59.  70. 220.\n",
      " 268. 152.  47.  74. 295. 101. 151. 127. 237. 225.  81. 151. 107.  64.\n",
      " 138. 185. 265. 101. 137. 143. 141.  79. 292. 178.  91. 116.  86. 122.\n",
      "  72. 129. 142.  90. 158.  39. 196. 222. 277.  99. 196. 202. 155.  77.\n",
      " 191.  70.  73.  49.  65. 263. 248. 296. 214. 185.  78.  93. 252. 150.\n",
      "  77. 208.  77. 108. 160.  53. 220. 154. 259.  90. 246. 124.  67.  72.\n",
      " 257. 262. 275. 177.  71.  47. 187. 125.  78.  51. 258. 215. 303. 243.\n",
      "  91. 150. 310. 153. 346.  63.  89.  50.  39. 103. 308. 116. 145.  74.\n",
      "  45. 115. 264.  87. 202. 127. 182. 241.  66.  94. 283.  64. 102. 200.\n",
      " 265.  94. 230. 181. 156. 233.  60. 219.  80.  68. 332. 248.  84. 200.\n",
      "  55.  85.  89.  31. 129.  83. 275.  65. 198. 236. 253. 124.  44. 172.\n",
      " 114. 142. 109. 180. 144. 163. 147.  97. 220. 190. 109. 191. 122. 230.\n",
      " 242. 248. 249. 192. 131. 237.  78. 135. 244. 199. 270. 164.  72.  96.\n",
      " 306.  91. 214.  95. 216. 263. 178. 113. 200. 139. 139.  88. 148.  88.\n",
      " 243.  71.  77. 109. 272.  60.  54. 221.  90. 311. 281. 182. 321.  58.\n",
      " 262. 206. 233. 242. 123. 167.  63. 197.  71. 168. 140. 217. 121. 235.\n",
      " 245.  40.  52. 104. 132.  88.  69. 219.  72. 201. 110.  51. 277.  63.\n",
      " 118.  69. 273. 258.  43. 198. 242. 232. 175.  93. 168. 275. 293. 281.\n",
      "  72. 140. 189. 181. 209. 136. 261. 113. 131. 174. 257.  55.  84.  42.\n",
      " 146. 212. 233.  91. 111. 152. 120.  67. 310.  94. 183.  66. 173.  72.\n",
      "  49.  64.  48. 178. 104. 132. 220.  57.]\n"
     ]
    }
   ],
   "source": [
    "diabetes = datasets.load_diabetes()\n",
    "\n",
    "print('데이터 (Data): ', diabetes.data.shape)\n",
    "print(diabetes.data)\n",
    "print()\n",
    "print('함수값 (Responses): ', diabetes.target.shape) \n",
    "print(diabetes.target) "
   ]
  },
  {
   "cell_type": "markdown",
   "metadata": {},
   "source": [
    "## Split train / test dataset"
   ]
  },
  {
   "cell_type": "code",
   "execution_count": 18,
   "metadata": {},
   "outputs": [
    {
     "name": "stdout",
     "output_type": "stream",
     "text": [
      "학습 데이터 (Training data):  (422, 10)\n",
      "시험 데이터 (Test data):  (20, 10)\n",
      "학습 함수값 (Training responses):  (422,)\n",
      "시험 함수값 (Test responses):  (20,)\n"
     ]
    }
   ],
   "source": [
    "diabetes_X = diabetes.data\n",
    "diabetes_y = diabetes.target\n",
    "\n",
    "diabetes_X_train = diabetes_X[:-20, :]\n",
    "diabetes_X_test = diabetes_X[-20:, :]\n",
    "\n",
    "diabetes_y_train = diabetes.target[:-20]\n",
    "diabetes_y_test = diabetes.target[-20:]\n",
    "\n",
    "print('학습 데이터 (Training data): ', diabetes_X_train.shape) \n",
    "print('시험 데이터 (Test data): ', diabetes_X_test.shape) \n",
    "print('학습 함수값 (Training responses): ', diabetes_y_train.shape)\n",
    "print('시험 함수값 (Test responses): ', diabetes_y_test.shape)"
   ]
  },
  {
   "cell_type": "markdown",
   "metadata": {},
   "source": [
    "## convert to 1 dimension dataset"
   ]
  },
  {
   "cell_type": "code",
   "execution_count": 19,
   "metadata": {},
   "outputs": [
    {
     "name": "stdout",
     "output_type": "stream",
     "text": [
      "(442,)\n",
      "(442, 1)\n"
     ]
    },
    {
     "data": {
      "image/png": "[encoded data removed]",
      "text/plain": [
       "<Figure size 432x288 with 1 Axes>"
      ]
     },
     "metadata": {
      "needs_background": "light"
     },
     "output_type": "display_data"
    }
   ],
   "source": [
    "# To 1-D data\n",
    "diabetes_X_1d = diabetes.data[:, 2]\n",
    "print(diabetes_X_1d.shape)\n",
    "diabetes_X_1d = diabetes_X_1d.reshape((len(diabetes_X_1d), 1))\n",
    "print(diabetes_X_1d.shape)\n",
    "diabetes_X_1d_train = diabetes_X_1d[:-20]\n",
    "diabetes_X_1d_test = diabetes_X_1d[-20:]\n",
    "\n",
    "plt.figure()\n",
    "plt.scatter(diabetes_X_1d_train, diabetes_y_train, c='k')\n",
    "plt.scatter(diabetes_X_1d_test, diabetes_y_test, c='g')\n",
    "plt.show()"
   ]
  },
  {
   "cell_type": "markdown",
   "metadata": {},
   "source": [
    "# Linear Regression (Using formula)"
   ]
  },
  {
   "cell_type": "code",
   "execution_count": 30,
   "metadata": {
    "collapsed": true
   },
   "outputs": [
    {
     "data": {
      "text/plain": [
       "array([[ 6.16962065e-02,  1.00000000e+00],\n",
       "       [-5.14740612e-02,  1.00000000e+00],\n",
       "       [ 4.44512133e-02,  1.00000000e+00],\n",
       "       [-1.15950145e-02,  1.00000000e+00],\n",
       "       [-3.63846922e-02,  1.00000000e+00],\n",
       "       [-4.06959405e-02,  1.00000000e+00],\n",
       "       [-4.71628129e-02,  1.00000000e+00],\n",
       "       [-1.89470584e-03,  1.00000000e+00],\n",
       "       [ 6.16962065e-02,  1.00000000e+00],\n",
       "       [ 3.90621530e-02,  1.00000000e+00],\n",
       "       [-8.38084235e-02,  1.00000000e+00],\n",
       "       [ 1.75059115e-02,  1.00000000e+00],\n",
       "       [-2.88400077e-02,  1.00000000e+00],\n",
       "       [-1.89470584e-03,  1.00000000e+00],\n",
       "       [-2.56065715e-02,  1.00000000e+00],\n",
       "       [-1.80618869e-02,  1.00000000e+00],\n",
       "       [ 4.22955892e-02,  1.00000000e+00],\n",
       "       [ 1.21168511e-02,  1.00000000e+00],\n",
       "       [-1.05172024e-02,  1.00000000e+00],\n",
       "       [-1.80618869e-02,  1.00000000e+00],\n",
       "       [-5.68631216e-02,  1.00000000e+00],\n",
       "       [-2.23731352e-02,  1.00000000e+00],\n",
       "       [-4.05032999e-03,  1.00000000e+00],\n",
       "       [ 6.06183944e-02,  1.00000000e+00],\n",
       "       [ 3.58287167e-02,  1.00000000e+00],\n",
       "       [-1.26728266e-02,  1.00000000e+00],\n",
       "       [-7.73415510e-02,  1.00000000e+00],\n",
       "       [ 5.95405824e-02,  1.00000000e+00],\n",
       "       [-2.12953232e-02,  1.00000000e+00],\n",
       "       [-6.20595414e-03,  1.00000000e+00],\n",
       "       [ 4.44512133e-02,  1.00000000e+00],\n",
       "       [-6.54856182e-02,  1.00000000e+00],\n",
       "       [ 1.25287119e-01,  1.00000000e+00],\n",
       "       [-5.03962492e-02,  1.00000000e+00],\n",
       "       [-6.33299941e-02,  1.00000000e+00],\n",
       "       [-3.09956318e-02,  1.00000000e+00],\n",
       "       [ 2.28949719e-02,  1.00000000e+00],\n",
       "       [ 1.10390390e-02,  1.00000000e+00],\n",
       "       [ 7.13965152e-02,  1.00000000e+00],\n",
       "       [ 1.42724753e-02,  1.00000000e+00],\n",
       "       [-8.36157828e-03,  1.00000000e+00],\n",
       "       [-6.76412423e-02,  1.00000000e+00],\n",
       "       [-1.05172024e-02,  1.00000000e+00],\n",
       "       [-2.34509473e-02,  1.00000000e+00],\n",
       "       [ 6.81630790e-02,  1.00000000e+00],\n",
       "       [-3.53068801e-02,  1.00000000e+00],\n",
       "       [-1.15950145e-02,  1.00000000e+00],\n",
       "       [-7.30303027e-02,  1.00000000e+00],\n",
       "       [-4.17737526e-02,  1.00000000e+00],\n",
       "       [ 1.42724753e-02,  1.00000000e+00],\n",
       "       [-7.28376621e-03,  1.00000000e+00],\n",
       "       [ 1.64280994e-02,  1.00000000e+00],\n",
       "       [-9.43939036e-03,  1.00000000e+00],\n",
       "       [-1.59062628e-02,  1.00000000e+00],\n",
       "       [ 2.50505960e-02,  1.00000000e+00],\n",
       "       [-4.93184371e-02,  1.00000000e+00],\n",
       "       [ 4.12177771e-02,  1.00000000e+00],\n",
       "       [-6.33299941e-02,  1.00000000e+00],\n",
       "       [-6.44078061e-02,  1.00000000e+00],\n",
       "       [-2.56065715e-02,  1.00000000e+00],\n",
       "       [-4.05032999e-03,  1.00000000e+00],\n",
       "       [ 4.57216660e-03,  1.00000000e+00],\n",
       "       [-7.28376621e-03,  1.00000000e+00],\n",
       "       [-3.74625043e-02,  1.00000000e+00],\n",
       "       [-2.56065715e-02,  1.00000000e+00],\n",
       "       [-2.45287594e-02,  1.00000000e+00],\n",
       "       [-1.80618869e-02,  1.00000000e+00],\n",
       "       [-1.48284507e-02,  1.00000000e+00],\n",
       "       [-2.99178198e-02,  1.00000000e+00],\n",
       "       [-4.60850009e-02,  1.00000000e+00],\n",
       "       [-6.97968665e-02,  1.00000000e+00],\n",
       "       [ 3.36730926e-02,  1.00000000e+00],\n",
       "       [-4.05032999e-03,  1.00000000e+00],\n",
       "       [-2.02175111e-02,  1.00000000e+00],\n",
       "       [ 2.41654246e-03,  1.00000000e+00],\n",
       "       [-3.09956318e-02,  1.00000000e+00],\n",
       "       [ 2.82840322e-02,  1.00000000e+00],\n",
       "       [-3.63846922e-02,  1.00000000e+00],\n",
       "       [-5.79409337e-02,  1.00000000e+00],\n",
       "       [-3.74625043e-02,  1.00000000e+00],\n",
       "       [ 1.21168511e-02,  1.00000000e+00],\n",
       "       [-2.23731352e-02,  1.00000000e+00],\n",
       "       [-3.53068801e-02,  1.00000000e+00],\n",
       "       [ 9.96122697e-03,  1.00000000e+00],\n",
       "       [-3.96181284e-02,  1.00000000e+00],\n",
       "       [ 7.13965152e-02,  1.00000000e+00],\n",
       "       [-7.51859269e-02,  1.00000000e+00],\n",
       "       [-6.20595414e-03,  1.00000000e+00],\n",
       "       [-4.06959405e-02,  1.00000000e+00],\n",
       "       [-4.82406250e-02,  1.00000000e+00],\n",
       "       [-2.56065715e-02,  1.00000000e+00],\n",
       "       [ 5.19958979e-02,  1.00000000e+00],\n",
       "       [ 4.57216660e-03,  1.00000000e+00],\n",
       "       [-6.44078061e-02,  1.00000000e+00],\n",
       "       [-1.69840749e-02,  1.00000000e+00],\n",
       "       [-5.79409337e-02,  1.00000000e+00],\n",
       "       [ 9.96122697e-03,  1.00000000e+00],\n",
       "       [ 8.86415084e-02,  1.00000000e+00],\n",
       "       [-5.12814206e-03,  1.00000000e+00],\n",
       "       [-6.44078061e-02,  1.00000000e+00],\n",
       "       [ 1.75059115e-02,  1.00000000e+00],\n",
       "       [-4.50071888e-02,  1.00000000e+00],\n",
       "       [ 2.82840322e-02,  1.00000000e+00],\n",
       "       [ 4.12177771e-02,  1.00000000e+00],\n",
       "       [ 6.49296427e-02,  1.00000000e+00],\n",
       "       [-3.20734439e-02,  1.00000000e+00],\n",
       "       [-7.62637389e-02,  1.00000000e+00],\n",
       "       [ 4.98402737e-02,  1.00000000e+00],\n",
       "       [ 4.55290254e-02,  1.00000000e+00],\n",
       "       [-9.43939036e-03,  1.00000000e+00],\n",
       "       [-3.20734439e-02,  1.00000000e+00],\n",
       "       [ 4.57216660e-03,  1.00000000e+00],\n",
       "       [ 2.07393477e-02,  1.00000000e+00],\n",
       "       [ 1.42724753e-02,  1.00000000e+00],\n",
       "       [ 1.10197750e-01,  1.00000000e+00],\n",
       "       [ 1.33873038e-03,  1.00000000e+00],\n",
       "       [ 5.84627703e-02,  1.00000000e+00],\n",
       "       [-2.12953232e-02,  1.00000000e+00],\n",
       "       [-1.05172024e-02,  1.00000000e+00],\n",
       "       [-4.71628129e-02,  1.00000000e+00],\n",
       "       [ 4.57216660e-03,  1.00000000e+00],\n",
       "       [ 1.75059115e-02,  1.00000000e+00],\n",
       "       [ 8.10968238e-02,  1.00000000e+00],\n",
       "       [ 3.47509047e-02,  1.00000000e+00],\n",
       "       [ 2.39727839e-02,  1.00000000e+00],\n",
       "       [-8.36157828e-03,  1.00000000e+00],\n",
       "       [-6.11743699e-02,  1.00000000e+00],\n",
       "       [-1.89470584e-03,  1.00000000e+00],\n",
       "       [-6.22521820e-02,  1.00000000e+00],\n",
       "       [ 1.64280994e-02,  1.00000000e+00],\n",
       "       [ 9.61861929e-02,  1.00000000e+00],\n",
       "       [-6.97968665e-02,  1.00000000e+00],\n",
       "       [-2.12953232e-02,  1.00000000e+00],\n",
       "       [-5.36296854e-02,  1.00000000e+00],\n",
       "       [ 4.33734013e-02,  1.00000000e+00],\n",
       "       [ 5.63071461e-02,  1.00000000e+00],\n",
       "       [-8.16527993e-02,  1.00000000e+00],\n",
       "       [ 4.98402737e-02,  1.00000000e+00],\n",
       "       [ 1.11275562e-01,  1.00000000e+00],\n",
       "       [ 6.16962065e-02,  1.00000000e+00],\n",
       "       [ 1.42724753e-02,  1.00000000e+00],\n",
       "       [ 4.76846496e-02,  1.00000000e+00],\n",
       "       [ 1.21168511e-02,  1.00000000e+00],\n",
       "       [ 5.64997868e-03,  1.00000000e+00],\n",
       "       [ 4.66068375e-02,  1.00000000e+00],\n",
       "       [ 1.28520555e-01,  1.00000000e+00],\n",
       "       [ 5.95405824e-02,  1.00000000e+00],\n",
       "       [ 9.29527567e-02,  1.00000000e+00],\n",
       "       [ 1.53502873e-02,  1.00000000e+00],\n",
       "       [-5.12814206e-03,  1.00000000e+00],\n",
       "       [ 7.03187031e-02,  1.00000000e+00],\n",
       "       [-4.05032999e-03,  1.00000000e+00],\n",
       "       [-8.16893766e-04,  1.00000000e+00],\n",
       "       [-4.39293767e-02,  1.00000000e+00],\n",
       "       [ 2.07393477e-02,  1.00000000e+00],\n",
       "       [ 6.06183944e-02,  1.00000000e+00],\n",
       "       [-1.05172024e-02,  1.00000000e+00],\n",
       "       [-3.31512560e-02,  1.00000000e+00],\n",
       "       [-6.54856182e-02,  1.00000000e+00],\n",
       "       [ 4.33734013e-02,  1.00000000e+00],\n",
       "       [-6.22521820e-02,  1.00000000e+00],\n",
       "       [ 6.38518307e-02,  1.00000000e+00],\n",
       "       [ 3.04396564e-02,  1.00000000e+00],\n",
       "       [ 7.24743273e-02,  1.00000000e+00],\n",
       "       [-1.91396990e-02,  1.00000000e+00],\n",
       "       [-6.65634303e-02,  1.00000000e+00],\n",
       "       [-6.00965578e-02,  1.00000000e+00],\n",
       "       [ 6.92408910e-02,  1.00000000e+00],\n",
       "       [ 5.95405824e-02,  1.00000000e+00],\n",
       "       [-2.66843835e-02,  1.00000000e+00],\n",
       "       [-2.02175111e-02,  1.00000000e+00],\n",
       "       [-4.60850009e-02,  1.00000000e+00],\n",
       "       [ 7.13965152e-02,  1.00000000e+00],\n",
       "       [-7.94971752e-02,  1.00000000e+00],\n",
       "       [ 9.96122697e-03,  1.00000000e+00],\n",
       "       [-3.85403164e-02,  1.00000000e+00],\n",
       "       [ 1.96615356e-02,  1.00000000e+00],\n",
       "       [ 2.72062202e-02,  1.00000000e+00],\n",
       "       [-8.36157828e-03,  1.00000000e+00],\n",
       "       [-1.59062628e-02,  1.00000000e+00],\n",
       "       [ 4.57216660e-03,  1.00000000e+00],\n",
       "       [-4.28515646e-02,  1.00000000e+00],\n",
       "       [ 5.64997868e-03,  1.00000000e+00],\n",
       "       [-3.53068801e-02,  1.00000000e+00],\n",
       "       [ 2.39727839e-02,  1.00000000e+00],\n",
       "       [-1.80618869e-02,  1.00000000e+00],\n",
       "       [ 4.22955892e-02,  1.00000000e+00],\n",
       "       [-5.47074975e-02,  1.00000000e+00],\n",
       "       [-2.97251791e-03,  1.00000000e+00],\n",
       "       [-6.65634303e-02,  1.00000000e+00],\n",
       "       [-1.26728266e-02,  1.00000000e+00],\n",
       "       [-4.17737526e-02,  1.00000000e+00],\n",
       "       [-3.09956318e-02,  1.00000000e+00],\n",
       "       [-5.12814206e-03,  1.00000000e+00],\n",
       "       [-5.90187458e-02,  1.00000000e+00],\n",
       "       [ 2.50505960e-02,  1.00000000e+00],\n",
       "       [-4.60850009e-02,  1.00000000e+00],\n",
       "       [ 3.49435453e-03,  1.00000000e+00],\n",
       "       [ 5.41515220e-02,  1.00000000e+00],\n",
       "       [-4.50071888e-02,  1.00000000e+00],\n",
       "       [-5.79409337e-02,  1.00000000e+00],\n",
       "       [-5.57853095e-02,  1.00000000e+00],\n",
       "       [ 1.33873038e-03,  1.00000000e+00],\n",
       "       [ 3.04396564e-02,  1.00000000e+00],\n",
       "       [ 6.72779075e-03,  1.00000000e+00],\n",
       "       [ 4.66068375e-02,  1.00000000e+00],\n",
       "       [ 2.61284081e-02,  1.00000000e+00],\n",
       "       [ 4.55290254e-02,  1.00000000e+00],\n",
       "       [ 4.01399650e-02,  1.00000000e+00],\n",
       "       [-1.80618869e-02,  1.00000000e+00],\n",
       "       [ 1.42724753e-02,  1.00000000e+00],\n",
       "       [ 3.69065288e-02,  1.00000000e+00],\n",
       "       [ 3.49435453e-03,  1.00000000e+00],\n",
       "       [-7.08746786e-02,  1.00000000e+00],\n",
       "       [-3.31512560e-02,  1.00000000e+00],\n",
       "       [ 9.40305687e-02,  1.00000000e+00],\n",
       "       [ 3.58287167e-02,  1.00000000e+00],\n",
       "       [ 3.15174685e-02,  1.00000000e+00],\n",
       "       [-6.54856182e-02,  1.00000000e+00],\n",
       "       [-4.17737526e-02,  1.00000000e+00],\n",
       "       [-3.96181284e-02,  1.00000000e+00],\n",
       "       [-3.85403164e-02,  1.00000000e+00],\n",
       "       [-2.56065715e-02,  1.00000000e+00],\n",
       "       [-2.34509473e-02,  1.00000000e+00],\n",
       "       [-6.65634303e-02,  1.00000000e+00],\n",
       "       [ 3.25952805e-02,  1.00000000e+00],\n",
       "       [-4.60850009e-02,  1.00000000e+00],\n",
       "       [-2.99178198e-02,  1.00000000e+00],\n",
       "       [-1.26728266e-02,  1.00000000e+00],\n",
       "       [-1.59062628e-02,  1.00000000e+00],\n",
       "       [ 7.13965152e-02,  1.00000000e+00],\n",
       "       [-3.09956318e-02,  1.00000000e+00],\n",
       "       [ 2.60918307e-04,  1.00000000e+00],\n",
       "       [ 3.69065288e-02,  1.00000000e+00],\n",
       "       [ 3.90621530e-02,  1.00000000e+00],\n",
       "       [-1.48284507e-02,  1.00000000e+00],\n",
       "       [ 6.72779075e-03,  1.00000000e+00],\n",
       "       [-6.87190544e-02,  1.00000000e+00],\n",
       "       [-9.43939036e-03,  1.00000000e+00],\n",
       "       [ 1.96615356e-02,  1.00000000e+00],\n",
       "       [ 7.46299514e-02,  1.00000000e+00],\n",
       "       [-8.36157828e-03,  1.00000000e+00],\n",
       "       [-2.34509473e-02,  1.00000000e+00],\n",
       "       [-4.60850009e-02,  1.00000000e+00],\n",
       "       [ 5.41515220e-02,  1.00000000e+00],\n",
       "       [-3.53068801e-02,  1.00000000e+00],\n",
       "       [-3.20734439e-02,  1.00000000e+00],\n",
       "       [-8.16527993e-02,  1.00000000e+00],\n",
       "       [ 4.76846496e-02,  1.00000000e+00],\n",
       "       [ 6.06183944e-02,  1.00000000e+00],\n",
       "       [ 5.63071461e-02,  1.00000000e+00],\n",
       "       [ 9.83418170e-02,  1.00000000e+00],\n",
       "       [ 5.95405824e-02,  1.00000000e+00],\n",
       "       [ 3.36730926e-02,  1.00000000e+00],\n",
       "       [ 5.63071461e-02,  1.00000000e+00],\n",
       "       [-6.54856182e-02,  1.00000000e+00],\n",
       "       [ 1.60854917e-01,  1.00000000e+00],\n",
       "       [-5.57853095e-02,  1.00000000e+00],\n",
       "       [-2.45287594e-02,  1.00000000e+00],\n",
       "       [-3.63846922e-02,  1.00000000e+00],\n",
       "       [-8.36157828e-03,  1.00000000e+00],\n",
       "       [-4.17737526e-02,  1.00000000e+00],\n",
       "       [ 1.27442743e-01,  1.00000000e+00],\n",
       "       [-7.73415510e-02,  1.00000000e+00],\n",
       "       [ 2.82840322e-02,  1.00000000e+00],\n",
       "       [-2.56065715e-02,  1.00000000e+00],\n",
       "       [-6.22521820e-02,  1.00000000e+00],\n",
       "       [-8.16893766e-04,  1.00000000e+00],\n",
       "       [ 8.86415084e-02,  1.00000000e+00],\n",
       "       [-3.20734439e-02,  1.00000000e+00],\n",
       "       [ 3.04396564e-02,  1.00000000e+00],\n",
       "       [ 8.88341490e-03,  1.00000000e+00],\n",
       "       [ 6.72779075e-03,  1.00000000e+00],\n",
       "       [-2.02175111e-02,  1.00000000e+00],\n",
       "       [-2.45287594e-02,  1.00000000e+00],\n",
       "       [-1.15950145e-02,  1.00000000e+00],\n",
       "       [ 2.61284081e-02,  1.00000000e+00],\n",
       "       [-5.90187458e-02,  1.00000000e+00],\n",
       "       [-3.63846922e-02,  1.00000000e+00],\n",
       "       [-2.45287594e-02,  1.00000000e+00],\n",
       "       [ 1.85837236e-02,  1.00000000e+00],\n",
       "       [-9.02752959e-02,  1.00000000e+00],\n",
       "       [-5.12814206e-03,  1.00000000e+00],\n",
       "       [-5.25518733e-02,  1.00000000e+00],\n",
       "       [-2.23731352e-02,  1.00000000e+00],\n",
       "       [-2.02175111e-02,  1.00000000e+00],\n",
       "       [-5.47074975e-02,  1.00000000e+00],\n",
       "       [-6.20595414e-03,  1.00000000e+00],\n",
       "       [-1.69840749e-02,  1.00000000e+00],\n",
       "       [ 5.52293341e-02,  1.00000000e+00],\n",
       "       [ 7.67855756e-02,  1.00000000e+00],\n",
       "       [ 1.85837236e-02,  1.00000000e+00],\n",
       "       [-2.23731352e-02,  1.00000000e+00],\n",
       "       [ 9.29527567e-02,  1.00000000e+00],\n",
       "       [-3.09956318e-02,  1.00000000e+00],\n",
       "       [ 3.90621530e-02,  1.00000000e+00],\n",
       "       [-6.11743699e-02,  1.00000000e+00],\n",
       "       [-8.36157828e-03,  1.00000000e+00],\n",
       "       [-3.74625043e-02,  1.00000000e+00],\n",
       "       [-1.37506387e-02,  1.00000000e+00],\n",
       "       [ 7.35521393e-02,  1.00000000e+00],\n",
       "       [-2.45287594e-02,  1.00000000e+00],\n",
       "       [ 3.36730926e-02,  1.00000000e+00],\n",
       "       [ 3.47509047e-02,  1.00000000e+00],\n",
       "       [-3.85403164e-02,  1.00000000e+00],\n",
       "       [-3.96181284e-02,  1.00000000e+00],\n",
       "       [-1.89470584e-03,  1.00000000e+00],\n",
       "       [-3.09956318e-02,  1.00000000e+00],\n",
       "       [-4.60850009e-02,  1.00000000e+00],\n",
       "       [ 1.33873038e-03,  1.00000000e+00],\n",
       "       [ 6.49296427e-02,  1.00000000e+00],\n",
       "       [ 4.01399650e-02,  1.00000000e+00],\n",
       "       [-2.34509473e-02,  1.00000000e+00],\n",
       "       [ 5.30737099e-02,  1.00000000e+00],\n",
       "       [ 4.01399650e-02,  1.00000000e+00],\n",
       "       [-2.02175111e-02,  1.00000000e+00],\n",
       "       [ 1.42724753e-02,  1.00000000e+00],\n",
       "       [-3.42290681e-02,  1.00000000e+00],\n",
       "       [ 6.72779075e-03,  1.00000000e+00],\n",
       "       [ 4.57216660e-03,  1.00000000e+00],\n",
       "       [ 3.04396564e-02,  1.00000000e+00],\n",
       "       [ 5.19958979e-02,  1.00000000e+00],\n",
       "       [ 6.16962065e-02,  1.00000000e+00],\n",
       "       [-7.28376621e-03,  1.00000000e+00],\n",
       "       [ 5.64997868e-03,  1.00000000e+00],\n",
       "       [ 5.41515220e-02,  1.00000000e+00],\n",
       "       [-8.36157828e-03,  1.00000000e+00],\n",
       "       [ 1.14508998e-01,  1.00000000e+00],\n",
       "       [ 6.70852669e-02,  1.00000000e+00],\n",
       "       [-5.57853095e-02,  1.00000000e+00],\n",
       "       [ 3.04396564e-02,  1.00000000e+00],\n",
       "       [-2.56065715e-02,  1.00000000e+00],\n",
       "       [ 1.04808689e-01,  1.00000000e+00],\n",
       "       [-6.20595414e-03,  1.00000000e+00],\n",
       "       [-4.71628129e-02,  1.00000000e+00],\n",
       "       [-4.82406250e-02,  1.00000000e+00],\n",
       "       [ 8.54080721e-02,  1.00000000e+00],\n",
       "       [-1.26728266e-02,  1.00000000e+00],\n",
       "       [-3.31512560e-02,  1.00000000e+00],\n",
       "       [-7.28376621e-03,  1.00000000e+00],\n",
       "       [-1.37506387e-02,  1.00000000e+00],\n",
       "       [ 5.95405824e-02,  1.00000000e+00],\n",
       "       [ 2.18171598e-02,  1.00000000e+00],\n",
       "       [ 1.85837236e-02,  1.00000000e+00],\n",
       "       [-1.15950145e-02,  1.00000000e+00],\n",
       "       [-2.97251791e-03,  1.00000000e+00],\n",
       "       [ 1.75059115e-02,  1.00000000e+00],\n",
       "       [-2.99178198e-02,  1.00000000e+00],\n",
       "       [-2.02175111e-02,  1.00000000e+00],\n",
       "       [-5.79409337e-02,  1.00000000e+00],\n",
       "       [ 6.06183944e-02,  1.00000000e+00],\n",
       "       [-4.06959405e-02,  1.00000000e+00],\n",
       "       [-7.19524906e-02,  1.00000000e+00],\n",
       "       [-5.57853095e-02,  1.00000000e+00],\n",
       "       [ 4.55290254e-02,  1.00000000e+00],\n",
       "       [-9.43939036e-03,  1.00000000e+00],\n",
       "       [-3.31512560e-02,  1.00000000e+00],\n",
       "       [ 4.98402737e-02,  1.00000000e+00],\n",
       "       [-8.48862355e-02,  1.00000000e+00],\n",
       "       [ 5.64997868e-03,  1.00000000e+00],\n",
       "       [ 2.07393477e-02,  1.00000000e+00],\n",
       "       [-7.28376621e-03,  1.00000000e+00],\n",
       "       [ 1.04808689e-01,  1.00000000e+00],\n",
       "       [-2.45287594e-02,  1.00000000e+00],\n",
       "       [-6.20595414e-03,  1.00000000e+00],\n",
       "       [-3.85403164e-02,  1.00000000e+00],\n",
       "       [ 1.37143052e-01,  1.00000000e+00],\n",
       "       [ 1.70555226e-01,  1.00000000e+00],\n",
       "       [ 2.41654246e-03,  1.00000000e+00],\n",
       "       [ 3.79843409e-02,  1.00000000e+00],\n",
       "       [-5.79409337e-02,  1.00000000e+00],\n",
       "       [-9.43939036e-03,  1.00000000e+00],\n",
       "       [-2.34509473e-02,  1.00000000e+00],\n",
       "       [-1.05172024e-02,  1.00000000e+00],\n",
       "       [-3.42290681e-02,  1.00000000e+00],\n",
       "       [-2.97251791e-03,  1.00000000e+00],\n",
       "       [ 6.81630790e-02,  1.00000000e+00],\n",
       "       [ 9.96122697e-03,  1.00000000e+00],\n",
       "       [ 2.41654246e-03,  1.00000000e+00],\n",
       "       [-3.85403164e-02,  1.00000000e+00],\n",
       "       [ 2.61284081e-02,  1.00000000e+00],\n",
       "       [-8.91974838e-02,  1.00000000e+00],\n",
       "       [ 6.06183944e-02,  1.00000000e+00],\n",
       "       [-2.88400077e-02,  1.00000000e+00],\n",
       "       [-2.99178198e-02,  1.00000000e+00],\n",
       "       [-1.91396990e-02,  1.00000000e+00],\n",
       "       [-4.06959405e-02,  1.00000000e+00],\n",
       "       [ 1.53502873e-02,  1.00000000e+00],\n",
       "       [-2.45287594e-02,  1.00000000e+00],\n",
       "       [ 1.33873038e-03,  1.00000000e+00],\n",
       "       [ 6.92408910e-02,  1.00000000e+00],\n",
       "       [-6.97968665e-02,  1.00000000e+00],\n",
       "       [-2.99178198e-02,  1.00000000e+00],\n",
       "       [-4.60850009e-02,  1.00000000e+00],\n",
       "       [ 1.85837236e-02,  1.00000000e+00],\n",
       "       [ 1.33873038e-03,  1.00000000e+00],\n",
       "       [-3.09956318e-02,  1.00000000e+00],\n",
       "       [-4.05032999e-03,  1.00000000e+00],\n",
       "       [ 1.53502873e-02,  1.00000000e+00],\n",
       "       [ 2.28949719e-02,  1.00000000e+00],\n",
       "       [ 4.55290254e-02,  1.00000000e+00],\n",
       "       [-4.50071888e-02,  1.00000000e+00],\n",
       "       [-3.31512560e-02,  1.00000000e+00],\n",
       "       [ 9.72640050e-02,  1.00000000e+00],\n",
       "       [ 5.41515220e-02,  1.00000000e+00],\n",
       "       [ 1.23131495e-01,  1.00000000e+00],\n",
       "       [-8.05749872e-02,  1.00000000e+00],\n",
       "       [ 9.29527567e-02,  1.00000000e+00],\n",
       "       [-5.03962492e-02,  1.00000000e+00],\n",
       "       [-1.15950145e-02,  1.00000000e+00],\n",
       "       [-2.77621956e-02,  1.00000000e+00],\n",
       "       [ 5.84627703e-02,  1.00000000e+00],\n",
       "       [ 8.54080721e-02,  1.00000000e+00],\n",
       "       [-8.16893766e-04,  1.00000000e+00],\n",
       "       [ 6.72779075e-03,  1.00000000e+00],\n",
       "       [ 8.88341490e-03,  1.00000000e+00],\n",
       "       [ 8.00190118e-02,  1.00000000e+00],\n",
       "       [ 7.13965152e-02,  1.00000000e+00],\n",
       "       [-2.45287594e-02,  1.00000000e+00],\n",
       "       [-5.47074975e-02,  1.00000000e+00],\n",
       "       [-3.63846922e-02,  1.00000000e+00],\n",
       "       [ 1.64280994e-02,  1.00000000e+00]])"
      ]
     },
     "execution_count": 30,
     "metadata": {},
     "output_type": "execute_result"
    }
   ],
   "source": [
    "\n",
    "# X = diabetes_X_1d_train\n",
    "# y = diabetes_y_train\n",
    "# X_ = np.concatenate((X, np.ones(X.shape[0]).reshape(-1, 1)), axis=1)\n",
    "\n",
    "# X_\n",
    "\n",
    "# # formula\n",
    "# W_ = np.linalg.inv(X_.T @ X_) @ X_.T @ y\n",
    "# print(W_)\n",
    "# print(W_[:-1])\n",
    "# print(W_[-1:])"
   ]
  },
  {
   "cell_type": "code",
   "execution_count": 65,
   "metadata": {},
   "outputs": [
    {
     "name": "stdout",
     "output_type": "stream",
     "text": [
      "(4,)\n",
      "(4,)\n",
      "(4, 2)\n",
      "30\n",
      "(2,)\n",
      "[21 31]\n"
     ]
    }
   ],
   "source": [
    "A = np.array([1,2,3,4])\n",
    "B = np.array([1,2,3,4])\n",
    "B2 = np.array([])\n",
    "C = np.array([[1,2],\n",
    "              [2,3],\n",
    "              [4,5],\n",
    "              [1,2]])\n",
    "\n",
    "print(A.shape)\n",
    "print(B.shape)\n",
    "print(C.shape)\n",
    "\n",
    "print(A@B)\n",
    "res = B@C\n",
    "print(res.shape)\n",
    "print(res)"
   ]
  },
  {
   "cell_type": "code",
   "execution_count": 66,
   "metadata": {},
   "outputs": [
    {
     "name": "stdout",
     "output_type": "stream",
     "text": [
      "[[9.55778160e-01 1.99565928e-01]\n",
      " [1.99565928e-01 4.22000000e+02]]\n"
     ]
    }
   ],
   "source": [
    "print((X_.T@X_)@X_.T)"
   ]
  },
  {
   "cell_type": "code",
   "execution_count": 70,
   "metadata": {},
   "outputs": [],
   "source": [
    "tmp = np.linalg.inv(X_.T @ X_)"
   ]
  },
  {
   "cell_type": "code",
   "execution_count": 72,
   "metadata": {},
   "outputs": [
    {
     "name": "stdout",
     "output_type": "stream",
     "text": [
      "[[ 0.0640623  -0.05435581  0.04601764 -0.01262752 -0.03856673 -0.04307789\n",
      "  -0.04984464 -0.0024774   0.0640623   0.04037868 -0.08818956  0.01782285\n",
      "  -0.03067219 -0.0024774  -0.02728881 -0.01939427  0.04376205  0.01218389\n",
      "  -0.01149973 -0.01939427 -0.05999477 -0.02390544 -0.00473298  0.06293451\n",
      "   0.0369953  -0.01375532 -0.08142281  0.06180672 -0.02277765 -0.00698857\n",
      "   0.04601764 -0.0690171   0.130602   -0.05322802 -0.06676152 -0.03292777\n",
      "   0.02346181  0.0110561   0.07421242  0.01443947 -0.00924415 -0.07127268\n",
      "  -0.01149973 -0.02503323  0.07082905 -0.03743894 -0.01262752 -0.07691164\n",
      "  -0.04420569  0.01443947 -0.00811636  0.01669506 -0.01037194 -0.01713869\n",
      "   0.02571739 -0.05210023  0.04263426 -0.06676152 -0.06788931 -0.02728881\n",
      "  -0.00473298  0.00428935 -0.00811636 -0.03969452 -0.02728881 -0.02616102\n",
      "  -0.01939427 -0.0160109  -0.03179998 -0.04871685 -0.07352827  0.03473972\n",
      "  -0.00473298 -0.02164986  0.00203377 -0.03292777  0.02910076 -0.03856673\n",
      "  -0.06112256 -0.03969452  0.01218389 -0.02390544 -0.03743894  0.00992831\n",
      "  -0.0419501   0.07421242 -0.07916722 -0.00698857 -0.04307789 -0.05097244\n",
      "  -0.02728881  0.05391218  0.00428935 -0.06788931 -0.01826648 -0.06112256\n",
      "   0.00992831  0.09225709 -0.00586077 -0.06788931  0.01782285 -0.04758906\n",
      "   0.02910076  0.04263426  0.06744567 -0.03405556 -0.08029502  0.05165659\n",
      "   0.04714543 -0.01037194 -0.03405556  0.00428935  0.02120622  0.01443947\n",
      "   0.11481292  0.00090597  0.06067893 -0.02277765 -0.01149973 -0.04984464\n",
      "   0.00428935  0.01782285  0.08436255  0.03586751  0.0245896  -0.00924415\n",
      "  -0.06450593 -0.0024774  -0.06563373  0.01669506  0.10015163 -0.07352827\n",
      "  -0.02277765 -0.05661139  0.04488984  0.05842334 -0.08593397  0.05165659\n",
      "   0.11594071  0.0640623   0.01443947  0.04940101  0.01218389  0.00541714\n",
      "   0.04827322  0.13398537  0.06180672  0.09676825  0.01556726 -0.00586077\n",
      "   0.07308463 -0.00473298 -0.00134961 -0.04646127  0.02120622  0.06293451\n",
      "  -0.01149973 -0.03518335 -0.0690171   0.04488984 -0.06563373  0.06631788\n",
      "   0.03135635  0.07534022 -0.02052206 -0.07014489 -0.06337814  0.07195684\n",
      "   0.06180672 -0.0284166  -0.02164986 -0.04871685  0.07421242 -0.08367839\n",
      "   0.00992831 -0.04082231  0.02007843  0.02797297 -0.00924415 -0.01713869\n",
      "   0.00428935 -0.04533348  0.00541714 -0.03743894  0.0245896  -0.01939427\n",
      "   0.04376205 -0.05773918 -0.00360519 -0.07014489 -0.01375532 -0.04420569\n",
      "  -0.03292777 -0.00586077 -0.06225035  0.02571739 -0.04871685  0.00316156\n",
      "   0.05616776 -0.04758906 -0.06112256 -0.05886698  0.00090597  0.03135635\n",
      "   0.00654493  0.04827322  0.02684518  0.04714543  0.04150647 -0.01939427\n",
      "   0.01443947  0.0381231   0.00316156 -0.07465606 -0.03518335  0.09789605\n",
      "   0.0369953   0.03248414 -0.0690171  -0.04420569 -0.0419501  -0.04082231\n",
      "  -0.02728881 -0.02503323 -0.07014489  0.03361193 -0.04871685 -0.03179998\n",
      "  -0.01375532 -0.01713869  0.07421242 -0.03292777 -0.00022182  0.0381231\n",
      "   0.04037868 -0.0160109   0.00654493 -0.07240047 -0.01037194  0.02007843\n",
      "   0.0775958  -0.00924415 -0.02503323 -0.04871685  0.05616776 -0.03743894\n",
      "  -0.03405556 -0.08593397  0.04940101  0.06293451  0.05842334  0.10240721\n",
      "   0.06180672  0.03473972  0.05842334 -0.0690171   0.16781912 -0.05886698\n",
      "  -0.02616102 -0.03856673 -0.00924415 -0.04420569  0.13285758 -0.08142281\n",
      "   0.02910076 -0.02728881 -0.06563373 -0.00134961  0.09225709 -0.03405556\n",
      "   0.03135635  0.00880052  0.00654493 -0.02164986 -0.02616102 -0.01262752\n",
      "   0.02684518 -0.06225035 -0.03856673 -0.02616102  0.01895064 -0.09495631\n",
      "  -0.00586077 -0.0554836  -0.02390544 -0.02164986 -0.05773918 -0.00698857\n",
      "  -0.01826648  0.05729555  0.07985138  0.01895064 -0.02390544  0.09676825\n",
      "  -0.03292777  0.04037868 -0.06450593 -0.00924415 -0.03969452 -0.01488311\n",
      "   0.07646801 -0.02616102  0.03473972  0.03586751 -0.04082231 -0.0419501\n",
      "  -0.0024774  -0.03292777 -0.04871685  0.00090597  0.06744567  0.04150647\n",
      "  -0.02503323  0.05503997  0.04150647 -0.02164986  0.01443947 -0.03631115\n",
      "   0.00654493  0.00428935  0.03135635  0.05391218  0.0640623  -0.00811636\n",
      "   0.00541714  0.05616776 -0.00924415  0.11932408  0.06970126 -0.05886698\n",
      "   0.03135635 -0.02728881  0.10917396 -0.00698857 -0.04984464 -0.05097244\n",
      "   0.08887371 -0.01375532 -0.03518335 -0.00811636 -0.01488311  0.06180672\n",
      "   0.02233401  0.01895064 -0.01262752 -0.00360519  0.01782285 -0.03179998\n",
      "  -0.02164986 -0.06112256  0.06293451 -0.04307789 -0.07578385 -0.05886698\n",
      "   0.04714543 -0.01037194 -0.03518335  0.05165659 -0.08931735  0.00541714\n",
      "   0.02120622 -0.00811636  0.10917396 -0.02616102 -0.00698857 -0.04082231\n",
      "   0.14300771  0.17796924  0.00203377  0.03925089 -0.06112256 -0.01037194\n",
      "  -0.02503323 -0.01149973 -0.03631115 -0.00360519  0.07082905  0.00992831\n",
      "   0.00203377 -0.04082231  0.02684518 -0.09382851  0.06293451 -0.03067219\n",
      "  -0.03179998 -0.02052206 -0.04307789  0.01556726 -0.02616102  0.00090597\n",
      "   0.07195684 -0.07352827 -0.03179998 -0.04871685  0.01895064  0.00090597\n",
      "  -0.03292777 -0.00473298  0.01556726  0.02346181  0.04714543 -0.04758906\n",
      "  -0.03518335  0.10127942  0.05616776  0.12834642 -0.08480618  0.09676825\n",
      "  -0.05322802 -0.01262752 -0.0295444   0.06067893  0.08887371 -0.00134961\n",
      "   0.00654493  0.00880052  0.08323476  0.07421242 -0.02616102 -0.05773918\n",
      "  -0.03856673  0.01669506]\n",
      " [ 0.00233937  0.00239537  0.00234791  0.00237564  0.00238791  0.00239004\n",
      "   0.00239324  0.00237084  0.00233937  0.00235057  0.00241137  0.00236124\n",
      "   0.00238417  0.00237084  0.00238257  0.00237884  0.00234897  0.00236391\n",
      "   0.00237511  0.00237884  0.00239804  0.00238097  0.00237191  0.00233991\n",
      "   0.00235217  0.00237617  0.00240817  0.00234044  0.00238044  0.00237297\n",
      "   0.00234791  0.00240231  0.00230791  0.00239484  0.00240124  0.00238524\n",
      "   0.00235857  0.00236444  0.00233457  0.00236284  0.00237404  0.00240337\n",
      "   0.00237511  0.00238151  0.00233617  0.00238737  0.00237564  0.00240604\n",
      "   0.00239057  0.00236284  0.00237351  0.00236177  0.00237457  0.00237777\n",
      "   0.00235751  0.00239431  0.00234951  0.00240124  0.00240177  0.00238257\n",
      "   0.00237191  0.00236764  0.00237351  0.00238844  0.00238257  0.00238204\n",
      "   0.00237884  0.00237724  0.00238471  0.00239271  0.00240444  0.00235324\n",
      "   0.00237191  0.00237991  0.00236871  0.00238524  0.00235591  0.00238791\n",
      "   0.00239857  0.00238844  0.00236391  0.00238097  0.00238737  0.00236497\n",
      "   0.00238951  0.00233457  0.00240711  0.00237297  0.00239004  0.00239377\n",
      "   0.00238257  0.00234417  0.00236764  0.00240177  0.00237831  0.00239857\n",
      "   0.00236497  0.00232604  0.00237244  0.00240177  0.00236124  0.00239217\n",
      "   0.00235591  0.00234951  0.00233777  0.00238577  0.00240764  0.00234524\n",
      "   0.00234737  0.00237457  0.00238577  0.00236764  0.00235964  0.00236284\n",
      "   0.00231537  0.00236924  0.00234097  0.00238044  0.00237511  0.00239324\n",
      "   0.00236764  0.00236124  0.00232977  0.00235271  0.00235804  0.00237404\n",
      "   0.00240017  0.00237084  0.00240071  0.00236177  0.00232231  0.00240444\n",
      "   0.00238044  0.00239644  0.00234844  0.00234204  0.00241031  0.00234524\n",
      "   0.00231484  0.00233937  0.00236284  0.00234631  0.00236391  0.00236711\n",
      "   0.00234684  0.00230631  0.00234044  0.00232391  0.00236231  0.00237244\n",
      "   0.00233511  0.00237191  0.00237031  0.00239164  0.00235964  0.00233991\n",
      "   0.00237511  0.00238631  0.00240231  0.00234844  0.00240071  0.00233831\n",
      "   0.00235484  0.00233404  0.00237937  0.00240284  0.00239964  0.00233564\n",
      "   0.00234044  0.00238311  0.00237991  0.00239271  0.00233457  0.00240924\n",
      "   0.00236497  0.00238897  0.00236017  0.00235644  0.00237404  0.00237777\n",
      "   0.00236764  0.00239111  0.00236711  0.00238737  0.00235804  0.00237884\n",
      "   0.00234897  0.00239697  0.00237137  0.00240284  0.00237617  0.00239057\n",
      "   0.00238524  0.00237244  0.00239911  0.00235751  0.00239271  0.00236817\n",
      "   0.00234311  0.00239217  0.00239857  0.00239751  0.00236924  0.00235484\n",
      "   0.00236657  0.00234684  0.00235697  0.00234737  0.00235004  0.00237884\n",
      "   0.00236284  0.00235164  0.00236817  0.00240497  0.00238631  0.00232337\n",
      "   0.00235217  0.00235431  0.00240231  0.00239057  0.00238951  0.00238897\n",
      "   0.00238257  0.00238151  0.00240284  0.00235377  0.00239271  0.00238471\n",
      "   0.00237617  0.00237777  0.00233457  0.00238524  0.00236977  0.00235164\n",
      "   0.00235057  0.00237724  0.00236657  0.00240391  0.00237457  0.00236017\n",
      "   0.00233297  0.00237404  0.00238151  0.00239271  0.00234311  0.00238737\n",
      "   0.00238577  0.00241031  0.00234631  0.00233991  0.00234204  0.00232124\n",
      "   0.00234044  0.00235324  0.00234204  0.00240231  0.00229031  0.00239751\n",
      "   0.00238204  0.00238791  0.00237404  0.00239057  0.00230684  0.00240817\n",
      "   0.00235591  0.00238257  0.00240071  0.00237031  0.00232604  0.00238577\n",
      "   0.00235484  0.00236551  0.00236657  0.00237991  0.00238204  0.00237564\n",
      "   0.00235697  0.00239911  0.00238791  0.00238204  0.00236071  0.00241457\n",
      "   0.00237244  0.00239591  0.00238097  0.00237991  0.00239697  0.00237297\n",
      "   0.00237831  0.00234257  0.00233191  0.00236071  0.00238097  0.00232391\n",
      "   0.00238524  0.00235057  0.00240017  0.00237404  0.00238844  0.00237671\n",
      "   0.00233351  0.00238204  0.00235324  0.00235271  0.00238897  0.00238951\n",
      "   0.00237084  0.00238524  0.00239271  0.00236924  0.00233777  0.00235004\n",
      "   0.00238151  0.00234364  0.00235004  0.00237991  0.00236284  0.00238684\n",
      "   0.00236657  0.00236764  0.00235484  0.00234417  0.00233937  0.00237351\n",
      "   0.00236711  0.00234311  0.00237404  0.00231324  0.00233671  0.00239751\n",
      "   0.00235484  0.00238257  0.00231804  0.00237297  0.00239324  0.00239377\n",
      "   0.00232764  0.00237617  0.00238631  0.00237351  0.00237671  0.00234044\n",
      "   0.00235911  0.00236071  0.00237564  0.00237137  0.00236124  0.00238471\n",
      "   0.00237991  0.00239857  0.00233991  0.00239004  0.00240551  0.00239751\n",
      "   0.00234737  0.00237457  0.00238631  0.00234524  0.00241191  0.00236711\n",
      "   0.00235964  0.00237351  0.00231804  0.00238204  0.00237297  0.00238897\n",
      "   0.00230204  0.00228551  0.00236871  0.00235111  0.00239857  0.00237457\n",
      "   0.00238151  0.00237511  0.00238684  0.00237137  0.00233617  0.00236497\n",
      "   0.00236871  0.00238897  0.00235697  0.00241404  0.00233991  0.00238417\n",
      "   0.00238471  0.00237937  0.00239004  0.00236231  0.00238204  0.00236924\n",
      "   0.00233564  0.00240444  0.00238471  0.00239271  0.00236071  0.00236924\n",
      "   0.00238524  0.00237191  0.00236231  0.00235857  0.00234737  0.00239217\n",
      "   0.00238631  0.00232177  0.00234311  0.00230897  0.00240977  0.00232391\n",
      "   0.00239484  0.00237564  0.00238364  0.00234097  0.00232764  0.00237031\n",
      "   0.00236657  0.00236551  0.00233031  0.00233457  0.00238204  0.00239697\n",
      "   0.00238791  0.00236177]]\n"
     ]
    }
   ],
   "source": [
    "print(tmp@X_.T)"
   ]
  },
  {
   "cell_type": "code",
   "execution_count": 71,
   "metadata": {
    "scrolled": false
   },
   "outputs": [
    {
     "name": "stdout",
     "output_type": "stream",
     "text": [
      "(2, 422)\n"
     ]
    }
   ],
   "source": [
    "print((tmp@X_.T).shape)"
   ]
  },
  {
   "cell_type": "code",
   "execution_count": 73,
   "metadata": {},
   "outputs": [
    {
     "name": "stdout",
     "output_type": "stream",
     "text": [
      "[938.23786125 152.91886183]\n"
     ]
    }
   ],
   "source": [
    "print(tmp@X_.T@y)"
   ]
  },
  {
   "cell_type": "code",
   "execution_count": 74,
   "metadata": {},
   "outputs": [
    {
     "name": "stdout",
     "output_type": "stream",
     "text": [
      "(2,)\n"
     ]
    }
   ],
   "source": [
    "print((tmp@X_.T@y).shape)"
   ]
  },
  {
   "cell_type": "code",
   "execution_count": 75,
   "metadata": {},
   "outputs": [
    {
     "data": {
      "text/plain": [
       "(2,)"
      ]
     },
     "execution_count": 75,
     "metadata": {},
     "output_type": "execute_result"
    }
   ],
   "source": [
    "W_.shape"
   ]
  },
  {
   "cell_type": "code",
   "execution_count": 40,
   "metadata": {
    "scrolled": true
   },
   "outputs": [
    {
     "name": "stdout",
     "output_type": "stream",
     "text": [
      "W: [938.23786125]\n",
      "b: [152.91886183]\n",
      "Training Loss 1977.5099267006967\n",
      "Test Loss 1274.0361993629854\n"
     ]
    },
    {
     "data": {
      "image/png": "[encoded data removed]",
      "text/plain": [
       "<Figure size 432x288 with 1 Axes>"
      ]
     },
     "metadata": {
      "needs_background": "light"
     },
     "output_type": "display_data"
    },
    {
     "data": {
      "image/png": "[encoded data removed]",
      "text/plain": [
       "<Figure size 432x288 with 1 Axes>"
      ]
     },
     "metadata": {
      "needs_background": "light"
     },
     "output_type": "display_data"
    }
   ],
   "source": [
    "\n",
    "X = diabetes_X_1d_train\n",
    "y = diabetes_y_train\n",
    "X_ = np.concatenate((X, np.ones(X.shape[0]).reshape(-1, 1)), axis=1)\n",
    "\n",
    "# formula\n",
    "W_ = np.linalg.inv(X_.T @ X_) @ X_.T @ y\n",
    "W = W_[:-1]\n",
    "b = W_[-1:]\n",
    "\n",
    "print(\"W:\", W)\n",
    "print(\"b:\", b)\n",
    "\n",
    "print(\"Training Loss\", np.mean( 0.5*(diabetes_y_train-(diabetes_X_1d_train @ W+ b))**2 ))\n",
    "print(\"Test Loss\", np.mean( 0.5*(diabetes_y_test-(diabetes_X_1d_test @ W + b))**2 ))\n",
    "\n",
    "plt.scatter(diabetes_X_1d_train, diabetes_y_train, color='black')\n",
    "plt.scatter(diabetes_X_1d_train, W * diabetes_X_1d_train + b)\n",
    "plt.show()\n",
    "\n",
    "plt.scatter(diabetes_X_1d_test, diabetes_y_test, color='r')\n",
    "plt.scatter(diabetes_X_1d_test, W * diabetes_X_1d_test + b)\n",
    "plt.show()"
   ]
  },
  {
   "cell_type": "code",
   "execution_count": 42,
   "metadata": {},
   "outputs": [
    {
     "data": {
      "text/plain": [
       "(422, 2)"
      ]
     },
     "execution_count": 42,
     "metadata": {},
     "output_type": "execute_result"
    }
   ],
   "source": [
    "X_.shape"
   ]
  },
  {
   "cell_type": "code",
   "execution_count": null,
   "metadata": {},
   "outputs": [],
   "source": []
  },
  {
   "cell_type": "markdown",
   "metadata": {},
   "source": [
    "# Linear Regression (Using Library)"
   ]
  },
  {
   "cell_type": "code",
   "execution_count": 50,
   "metadata": {},
   "outputs": [
    {
     "name": "stdout",
     "output_type": "stream",
     "text": [
      "W =  [[938.23786125]]\n",
      "b =  [152.91886183]\n"
     ]
    },
    {
     "data": {
      "image/png": "[encoded data removed]",
      "text/plain": [
       "<Figure size 432x288 with 1 Axes>"
      ]
     },
     "metadata": {
      "needs_background": "light"
     },
     "output_type": "display_data"
    }
   ],
   "source": [
    "from sklearn.linear_model import LinearRegression\n",
    "reg = LinearRegression()\n",
    "reg.fit(diabetes_X_1d_train, diabetes_y_train.reshape(-1, 1))\n",
    "print(\"W = \", reg.coef_)\n",
    "print(\"b = \", reg.intercept_)\n",
    "\n",
    "plt.scatter(diabetes_X_1d_train, diabetes_y_train.reshape(-1, 1))\n",
    "plt.plot(diabetes_X_1d, reg.predict(diabetes_X_1d))\n",
    "plt.show()"
   ]
  },
  {
   "cell_type": "markdown",
   "metadata": {},
   "source": [
    "# Linear Regression (Using tensorflow)"
   ]
  },
  {
   "cell_type": "code",
   "execution_count": 31,
   "metadata": {
    "scrolled": true
   },
   "outputs": [
    {
     "name": "stdout",
     "output_type": "stream",
     "text": [
      "Epoch:  100 \t 0.51287556\n",
      "Epoch:  200 \t 0.48015255\n",
      "Epoch:  300 \t 0.45336372\n",
      "Epoch:  400 \t 0.4314331\n",
      "Epoch:  500 \t 0.41347957\n",
      "Epoch:  600 \t 0.3987819\n",
      "Epoch:  700 \t 0.38674966\n",
      "Epoch:  800 \t 0.37689954\n",
      "Epoch:  900 \t 0.36883578\n",
      "Epoch:  1000 \t 0.36223432\n",
      "최적화 완료\n",
      "학습 손실 =  353.79797\n",
      "W =  [[0.82260287]]\n",
      "b =  [0.00960029]\n"
     ]
    },
    {
     "data": {
      "image/png": "[encoded data removed]",
      "text/plain": [
       "<Figure size 432x288 with 1 Axes>"
      ]
     },
     "metadata": {
      "needs_background": "light"
     },
     "output_type": "display_data"
    }
   ],
   "source": [
    "X = diabetes_X_1d\n",
    "X_train = diabetes_X_1d_train\n",
    "y_train = diabetes_y_train\n",
    "\n",
    "#Normalize(정규화)\n",
    "X = (X-np.mean(X, 0)) / np.std(X, 0)\n",
    "X_train = (X_train-np.mean(X_train, 0)) / np.std(X_train, 0)\n",
    "y_train = (y_train-np.mean(y_train, 0)) / np.std(y_train, 0)\n",
    "\n",
    "\n",
    "learning_rate = 1e-3\n",
    "training_epochs = 1000\n",
    "display_step = 100\n",
    "\n",
    "tf.reset_default_graph()\n",
    "\n",
    "X_tf = tf.placeholder(tf.float32, shape=[None, X.shape[1]])\n",
    "Y_tf = tf.placeholder(tf.float32)\n",
    "\n",
    "W = tf.get_variable(\"weight\", shape=[X.shape[1], 1])\n",
    "b = tf.get_variable('bias', shape=[1])\n",
    "\n",
    "mul = tf.matmul(X_tf, W) # @\n",
    "pred = tf.add(mul, b) # +\n",
    "\n",
    "obj = tf.reduce_mean(tf.reduce_sum(tf.pow(pred - Y_tf, 2), 1)) / 2\n",
    "optimizer = tf.train.GradientDescentOptimizer(learning_rate).minimize(obj)\n",
    "\n",
    "init = tf.global_variables_initializer()\n",
    "\n",
    "sess = tf.Session()\n",
    "sess.run(init)\n",
    "\n",
    "for epoch in range(0, training_epochs):\n",
    "    loss, _ = sess.run([obj, optimizer], feed_dict={X_tf: X_train, Y_tf: y_train.reshape(-1, 1)})\n",
    "#     for x, y in zip(X_train, y_train):\n",
    "#         loss, _ = sess.run([obj, optimizer], feed_dict={X_tf: x.reshape(1, -1), Y_tf: y})\n",
    "    if (epoch + 1) % display_step == 0:\n",
    "        print(\"Epoch: \", epoch + 1, \"\\t\", loss)\n",
    "\n",
    "print(\"최적화 완료\") \n",
    "print(\"학습 손실 = \", sess.run(obj, feed_dict={X_tf: X_train, Y_tf: y_train})) \n",
    "print(\"W = \", sess.run(W))\n",
    "print(\"b = \", sess.run(b))\n",
    "\n",
    "plt.scatter(X_train, y_train)\n",
    "plt.plot(X, sess.run(pred, feed_dict={X_tf:X}))\n",
    "plt.show()"
   ]
  },
  {
   "cell_type": "markdown",
   "metadata": {},
   "source": [
    "# Linear Regression (Using tensorflow)"
   ]
  },
  {
   "cell_type": "code",
   "execution_count": 56,
   "metadata": {},
   "outputs": [
    {
     "name": "stdout",
     "output_type": "stream",
     "text": [
      "Epoch:  100 \t 0.5228078\n",
      "Epoch:  200 \t 0.48828357\n",
      "Epoch:  300 \t 0.4600202\n",
      "Epoch:  400 \t 0.4368819\n",
      "Epoch:  500 \t 0.4179402\n",
      "Epoch:  600 \t 0.40243357\n",
      "Epoch:  700 \t 0.38973916\n",
      "Epoch:  800 \t 0.379347\n",
      "Epoch:  900 \t 0.37083942\n",
      "Epoch:  1000 \t 0.36387458\n",
      "최적화 완료\n",
      "학습 손실 =  0.8439639\n"
     ]
    },
    {
     "data": {
      "image/png": "[encoded data removed]",
      "text/plain": [
       "<Figure size 432x288 with 1 Axes>"
      ]
     },
     "metadata": {
      "needs_background": "light"
     },
     "output_type": "display_data"
    }
   ],
   "source": [
    "X = diabetes_X_1d\n",
    "X_train = diabetes_X_1d_train\n",
    "y_train = diabetes_y_train\n",
    "\n",
    "X = (X-np.mean(X, 0)) / np.std(X, 0)\n",
    "X_train = (X_train-np.mean(X_train, 0)) / np.std(X_train, 0)\n",
    "y_train = (y_train-np.mean(y_train, 0)) / np.std(y_train, 0)\n",
    "\n",
    "\n",
    "learning_rate = 1e-3\n",
    "training_epochs = 1000\n",
    "display_step = 100\n",
    "\n",
    "tf.reset_default_graph()\n",
    "\n",
    "X_tf = tf.placeholder(tf.float32, shape=[None, X.shape[1]])\n",
    "Y_tf = tf.placeholder(tf.float32)\n",
    "\n",
    "pred = tf.layers.dense(X_tf, 1)\n",
    "\n",
    "obj = tf.losses.mean_squared_error(Y_tf, pred) / 2\n",
    "\n",
    "optimizer = tf.train.GradientDescentOptimizer(learning_rate).minimize(obj)\n",
    "\n",
    "init = tf.global_variables_initializer()\n",
    "\n",
    "sess = tf.Session()\n",
    "sess.run(init)\n",
    "\n",
    "for epoch in range(0, training_epochs):\n",
    "    loss, _ = sess.run([obj, optimizer], feed_dict={X_tf: X_train, Y_tf: y_train.reshape(-1, 1)})\n",
    "#     for x, y in zip(X_train, y_train):\n",
    "#         loss, _ = sess.run([obj, optimizer], feed_dict={X_tf: x.reshape(1, -1), Y_tf: y})\n",
    "    if (epoch + 1) % display_step == 0:\n",
    "        print(\"Epoch: \", epoch + 1, \"\\t\", loss)\n",
    "\n",
    "print(\"최적화 완료\") \n",
    "print(\"학습 손실 = \", sess.run(obj, feed_dict={X_tf: X_train, Y_tf: y_train})) \n",
    "\n",
    "plt.scatter(X_train, y_train)\n",
    "plt.plot(X, sess.run(pred, feed_dict={X_tf:X}))\n",
    "plt.show()"
   ]
  },
  {
   "cell_type": "code",
   "execution_count": null,
   "metadata": {},
   "outputs": [],
   "source": []
  }
 ],
 "metadata": {
  "kernelspec": {
   "display_name": "Python 3",
   "language": "python",
   "name": "python3"
  },
  "language_info": {
   "codemirror_mode": {
    "name": "ipython",
    "version": 3
   },
   "file_extension": ".py",
   "mimetype": "text/x-python",
   "name": "python",
   "nbconvert_exporter": "python",
   "pygments_lexer": "ipython3",
   "version": "3.7.3"
  }
 },
 "nbformat": 4,
 "nbformat_minor": 2
}
