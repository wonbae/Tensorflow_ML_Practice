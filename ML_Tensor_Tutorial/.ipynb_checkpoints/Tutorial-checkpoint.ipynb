{
 "cells": [
  {
   "cell_type": "markdown",
   "metadata": {},
   "source": [
    "# Tensors\n",
    "## constant"
   ]
  },
  {
   "cell_type": "code",
   "execution_count": 1,
   "metadata": {},
   "outputs": [
    {
     "name": "stdout",
     "output_type": "stream",
     "text": [
      "Tensor(\"Const:0\", shape=(), dtype=float32)\n",
      "Tensor(\"Const_1:0\", shape=(), dtype=float32)\n",
      "Tensor(\"add:0\", shape=(), dtype=float32)\n"
     ]
    }
   ],
   "source": [
    "import tensorflow as tf \n",
    "tf.reset_default_graph()\n",
    "\n",
    "a = tf.constant(3.0, dtype=tf.float32)\n",
    "b = tf.constant(4.0) # also tf.float32 implicitly\n",
    "total = a + b\n",
    "print(a)\n",
    "print(b)\n",
    "print(total)"
   ]
  },
  {
   "cell_type": "code",
   "execution_count": 2,
   "metadata": {},
   "outputs": [
    {
     "name": "stdout",
     "output_type": "stream",
     "text": [
      "Tensor(\"Const:0\", shape=(2,), dtype=float32)\n"
     ]
    }
   ],
   "source": [
    "import tensorflow as tf \n",
    "tf.reset_default_graph()\n",
    "\n",
    "a = tf.constant([3.0, 4.0], dtype=tf.float32)\n",
    "print(a)"
   ]
  },
  {
   "cell_type": "markdown",
   "metadata": {},
   "source": [
    "## placeholder"
   ]
  },
  {
   "cell_type": "code",
   "execution_count": 3,
   "metadata": {},
   "outputs": [
    {
     "name": "stdout",
     "output_type": "stream",
     "text": [
      "Tensor(\"Placeholder:0\", dtype=float32)\n",
      "Tensor(\"Placeholder_1:0\", dtype=float32)\n",
      "Tensor(\"add:0\", dtype=float32)\n"
     ]
    }
   ],
   "source": [
    "import tensorflow as tf \n",
    "tf.reset_default_graph()\n",
    "\n",
    "x = tf.placeholder(tf.float32)\n",
    "y = tf.placeholder(tf.float32)\n",
    "z = x + y\n",
    "print(x)\n",
    "print(y)\n",
    "print(z)"
   ]
  },
  {
   "cell_type": "code",
   "execution_count": 4,
   "metadata": {},
   "outputs": [
    {
     "name": "stdout",
     "output_type": "stream",
     "text": [
      "Tensor(\"Placeholder:0\", dtype=float32)\n",
      "Tensor(\"Placeholder_1:0\", dtype=float32)\n",
      "Tensor(\"add:0\", dtype=float32)\n"
     ]
    }
   ],
   "source": [
    "# with shape\n",
    "import tensorflow as tf \n",
    "tf.reset_default_graph()\n",
    "\n",
    "x1 = tf.placeholder(tf.float32, shape=[2])\n",
    "y1 = tf.placeholder(tf.float32, shape=[2])\n",
    "z1 = x1 + y1\n",
    "print(x)\n",
    "print(y)\n",
    "print(z)"
   ]
  },
  {
   "cell_type": "markdown",
   "metadata": {},
   "source": [
    "## variable"
   ]
  },
  {
   "cell_type": "code",
   "execution_count": 4,
   "metadata": {},
   "outputs": [
    {
     "name": "stdout",
     "output_type": "stream",
     "text": [
      "<tf.Variable 'my_variable:0' shape=(1, 2, 3) dtype=float32_ref>\n",
      "<tf.Variable 'my_int_variable:0' shape=(1, 2, 3) dtype=int32_ref>\n"
     ]
    }
   ],
   "source": [
    "import tensorflow as tf \n",
    "tf.reset_default_graph()\n",
    "\n",
    "my_variable = tf.get_variable\"my_variable\", [1, 2, 3]) \n",
    "my_int_variable = tf.get_variable(\"my_int_variable\", [1, 2, 3], dtype=tf.int32,\n",
    "                                  initializer=tf.zeros_initializer) \n",
    "print(my_variable)\n",
    "print(my_int_variable)"
   ]
  },
  {
   "cell_type": "markdown",
   "metadata": {},
   "source": [
    "# Graph and Sessions\n",
    "## constant"
   ]
  },
  {
   "cell_type": "code",
   "execution_count": 6,
   "metadata": {},
   "outputs": [
    {
     "name": "stdout",
     "output_type": "stream",
     "text": [
      "7.0\n",
      "[3.0, 4.0]\n"
     ]
    }
   ],
   "source": [
    "import tensorflow as tf \n",
    "tf.reset_default_graph()\n",
    "\n",
    "a = tf.constant(3.0, dtype=tf.float32)\n",
    "b = tf.constant(4.0) # also tf.float32 implicitly\n",
    "total = a + b\n",
    "\n",
    "sess = tf.Session()\n",
    "print(sess.run(total))\n",
    "print(sess.run([a, b]))"
   ]
  },
  {
   "cell_type": "code",
   "execution_count": 7,
   "metadata": {},
   "outputs": [
    {
     "name": "stdout",
     "output_type": "stream",
     "text": [
      "[3. 4.]\n"
     ]
    }
   ],
   "source": [
    "import tensorflow as tf \n",
    "tf.reset_default_graph()\n",
    "\n",
    "a = tf.constant([3.0, 4.0], dtype=tf.float32)\n",
    "\n",
    "sess = tf.Session()\n",
    "print(sess.run(a))"
   ]
  },
  {
   "cell_type": "markdown",
   "metadata": {},
   "source": [
    "## placeholder"
   ]
  },
  {
   "cell_type": "code",
   "execution_count": 8,
   "metadata": {},
   "outputs": [
    {
     "name": "stdout",
     "output_type": "stream",
     "text": [
      "7.5\n"
     ]
    }
   ],
   "source": [
    "import tensorflow as tf \n",
    "tf.reset_default_graph()\n",
    "\n",
    "x = tf.placeholder(tf.float32)\n",
    "y = tf.placeholder(tf.float32)\n",
    "z = x + y\n",
    "\n",
    "sess = tf.Session()\n",
    "print(sess.run(z, feed_dict={x: 3, y: 4.5}))"
   ]
  },
  {
   "cell_type": "code",
   "execution_count": 9,
   "metadata": {},
   "outputs": [
    {
     "name": "stdout",
     "output_type": "stream",
     "text": [
      "[3. 7.]\n"
     ]
    }
   ],
   "source": [
    "#with shape\n",
    "import tensorflow as tf \n",
    "tf.reset_default_graph()\n",
    "\n",
    "x1 = tf.placeholder(tf.float32, shape=[2])\n",
    "y1 = tf.placeholder(tf.float32, shape=[2])\n",
    "z1 = x1 + y1\n",
    "\n",
    "sess = tf.Session()\n",
    "print(sess.run(z1, feed_dict={x1: [1, 3], y1: [2, 4]}))"
   ]
  },
  {
   "cell_type": "markdown",
   "metadata": {},
   "source": [
    "## variable"
   ]
  },
  {
   "cell_type": "code",
   "execution_count": 10,
   "metadata": {},
   "outputs": [
    {
     "name": "stdout",
     "output_type": "stream",
     "text": [
      "[[[ 1.0602162  -0.32958758  0.19239259]\n",
      "  [-0.18816447  0.6637125  -0.5896369 ]]]\n",
      "[[[0 0 0]\n",
      "  [0 0 0]]]\n"
     ]
    }
   ],
   "source": [
    "import tensorflow as tf \n",
    "tf.reset_default_graph()\n",
    "\n",
    "my_variable = tf.get_variable(\"my_variable\", [1, 2, 3]) \n",
    "my_int_variable = tf.get_variable(\"my_int_variable\", [1, 2, 3], dtype=tf.int32,\n",
    "                                  initializer=tf.zeros_initializer) \n",
    "\n",
    "sess = tf.Session()\n",
    "sess.run(tf.global_variables_initializer()) \n",
    "v, w = sess.run([my_variable, my_int_variable])\n",
    "print(v)\n",
    "print(w)"
   ]
  },
  {
   "cell_type": "code",
   "execution_count": 11,
   "metadata": {},
   "outputs": [
    {
     "name": "stdout",
     "output_type": "stream",
     "text": [
      "ValueError\n"
     ]
    }
   ],
   "source": [
    "# error case\n",
    "import tensorflow as tf \n",
    "tf.reset_default_graph()\n",
    "\n",
    "my_variable = tf.get_variable(\"my_variable\", [1]) \n",
    "try:\n",
    "    dup = tf.get_variable(\"my_variable\", [1]) \n",
    "except ValueError:\n",
    "    print(\"ValueError\")"
   ]
  },
  {
   "cell_type": "code",
   "execution_count": 12,
   "metadata": {},
   "outputs": [
    {
     "name": "stdout",
     "output_type": "stream",
     "text": [
      "<tf.Variable 'my_variable:0' shape=(1,) dtype=float32_ref>\n",
      "<tf.Variable 'my_variable:0' shape=(1,) dtype=float32_ref>\n",
      "ValueError\n",
      "[-1.5753112]\n"
     ]
    }
   ],
   "source": [
    "import tensorflow as tf \n",
    "tf.reset_default_graph()\n",
    "\n",
    "my_variable = tf.get_variable(\"my_variable\", [1]) \n",
    "tf.reset_default_graph()\n",
    "dup = tf.get_variable(\"my_variable\", [1]) \n",
    "print(my_variable)\n",
    "print(dup)\n",
    "with tf.Session() as sess:\n",
    "    sess.run(tf.global_variables_initializer()) \n",
    "    try:\n",
    "        print(sess.run(my_variable))\n",
    "    except ValueError:\n",
    "        print(\"ValueError\")\n",
    "    print(sess.run(dup))"
   ]
  },
  {
   "cell_type": "markdown",
   "metadata": {},
   "source": [
    "### variable scope"
   ]
  },
  {
   "cell_type": "code",
   "execution_count": 13,
   "metadata": {},
   "outputs": [
    {
     "name": "stdout",
     "output_type": "stream",
     "text": [
      "<tf.Variable 'foo/my_variable:0' shape=(1,) dtype=float32_ref>\n",
      "<tf.Variable 'bar/my_variable:0' shape=(1,) dtype=float32_ref>\n",
      "[1.6589237]\n",
      "[-1.686476]\n"
     ]
    }
   ],
   "source": [
    "import tensorflow as tf \n",
    "tf.reset_default_graph()\n",
    "\n",
    "with tf.variable_scope(\"foo\"):\n",
    "    my_variable = tf.get_variable(\"my_variable\", [1]) \n",
    "with tf.variable_scope(\"bar\"):\n",
    "    dup = tf.get_variable(\"my_variable\", [1])\n",
    "print(my_variable)\n",
    "print(dup)\n",
    "with tf.Session() as sess:\n",
    "    sess.run(tf.global_variables_initializer()) \n",
    "    print(sess.run(my_variable))\n",
    "    print(sess.run(dup))"
   ]
  },
  {
   "cell_type": "code",
   "execution_count": 14,
   "metadata": {},
   "outputs": [
    {
     "name": "stdout",
     "output_type": "stream",
     "text": [
      "<tf.Variable 'foo/my_variable:0' shape=(1,) dtype=float32_ref>\n",
      "<tf.Variable 'foo/my_variable:0' shape=(1,) dtype=float32_ref>\n",
      "[1.2086452]\n",
      "[1.2086452]\n"
     ]
    }
   ],
   "source": [
    "import tensorflow as tf \n",
    "tf.reset_default_graph()\n",
    "\n",
    "with tf.variable_scope(\"foo\"):\n",
    "    my_variable = tf.get_variable(\"my_variable\", [1]) \n",
    "with tf.variable_scope(\"foo\", reuse=True):\n",
    "    dup = tf.get_variable(\"my_variable\", [1])\n",
    "\n",
    "print(my_variable)\n",
    "print(dup)\n",
    "with tf.Session() as sess:\n",
    "    sess.run(tf.global_variables_initializer()) \n",
    "    print(sess.run(my_variable))\n",
    "    print(sess.run(dup))"
   ]
  },
  {
   "cell_type": "markdown",
   "metadata": {},
   "source": [
    "### initializer"
   ]
  },
  {
   "cell_type": "code",
   "execution_count": 15,
   "metadata": {},
   "outputs": [
    {
     "name": "stdout",
     "output_type": "stream",
     "text": [
      "[[[ 0.38497305 -0.5529714   0.40448713]\n",
      "  [ 0.95871353  0.8886858   0.88998544]]]\n"
     ]
    }
   ],
   "source": [
    "import tensorflow as tf \n",
    "tf.reset_default_graph()\n",
    "\n",
    "v = tf.get_variable(\"v\", [1, 2, 3], dtype=tf.float32)\n",
    "sess = tf.Session()\n",
    "sess.run(tf.global_variables_initializer()) \n",
    "print(sess.run(v))"
   ]
  },
  {
   "cell_type": "code",
   "execution_count": 16,
   "metadata": {},
   "outputs": [
    {
     "name": "stdout",
     "output_type": "stream",
     "text": [
      "[[[0. 0. 0.]\n",
      "  [0. 0. 0.]]]\n",
      "[[[1. 1. 1.]\n",
      "  [1. 1. 1.]]]\n"
     ]
    }
   ],
   "source": [
    "import tensorflow as tf \n",
    "tf.reset_default_graph()\n",
    "\n",
    "v1 = tf.get_variable(\"v1\", [1, 2, 3], dtype=tf.float32,\n",
    "                     initializer=tf.zeros_initializer) \n",
    "v2 = tf.get_variable(\"v2\", [1, 2, 3], dtype=tf.float32,\n",
    "                     initializer=tf.constant_initializer(1.0))\n",
    "sess = tf.Session()\n",
    "sess.run(tf.global_variables_initializer()) \n",
    "o1, o2 = sess.run([v1, v2]) \n",
    "\n",
    "print(o1)\n",
    "print(o2)"
   ]
  },
  {
   "cell_type": "code",
   "execution_count": 17,
   "metadata": {},
   "outputs": [
    {
     "name": "stdout",
     "output_type": "stream",
     "text": [
      "[[[ 0.2848788  -1.5765008   0.35069615]\n",
      "  [ 0.29758674 -0.21860102  3.1011949 ]]]\n",
      "[[[0.5643257  0.92986465 0.8878919 ]\n",
      "  [0.31978106 0.9430996  0.42847168]]]\n"
     ]
    }
   ],
   "source": [
    "import tensorflow as tf \n",
    "tf.reset_default_graph()\n",
    "\n",
    "v3 = tf.get_variable(\"v3\", [1, 2, 3], dtype=tf.float32,\n",
    "                     initializer=tf.random_normal_initializer())\n",
    "v4 = tf.get_variable(\"v4\", [1, 2, 3], dtype=tf.float32,\n",
    "                     initializer=tf.random_uniform_initializer()) \n",
    "sess = tf.Session()\n",
    "sess.run(tf.global_variables_initializer()) \n",
    "o3, o4 = sess.run([v3, v4]) \n",
    "\n",
    "print(o3)\n",
    "print(o4)"
   ]
  },
  {
   "cell_type": "markdown",
   "metadata": {},
   "source": [
    "# Summary"
   ]
  },
  {
   "cell_type": "code",
   "execution_count": 18,
   "metadata": {},
   "outputs": [
    {
     "name": "stdout",
     "output_type": "stream",
     "text": [
      "Tensor(\"Placeholder:0\", dtype=float32)\n",
      "<tf.Variable 'w:0' shape=(1,) dtype=float32_ref>\n",
      "Tensor(\"Const_1:0\", shape=(), dtype=float32)\n",
      "Tensor(\"add:0\", dtype=float32)\n",
      "[6.]\n"
     ]
    }
   ],
   "source": [
    "import tensorflow as tf \n",
    "tf.reset_default_graph()\n",
    "\n",
    "x = tf.placeholder(tf.float32)\n",
    "w = tf.get_variable(\"w\", \n",
    "            initializer=tf.constant([2.]))\n",
    "b = tf.constant(4.0) \n",
    "y= x*w + b\n",
    "\n",
    "print(x)\n",
    "print(w) \n",
    "print(b) \n",
    "print(y)\n",
    "\n",
    "sess = tf.Session()\n",
    "sess.run(tf.global_variables_initializer())\n",
    "print(sess.run(y, feed_dict={x: 1}))"
   ]
  },
  {
   "cell_type": "code",
   "execution_count": 19,
   "metadata": {},
   "outputs": [
    {
     "name": "stdout",
     "output_type": "stream",
     "text": [
      "Tensor(\"Placeholder:0\", shape=(1,), dtype=float32)\n",
      "<tf.Variable 'w:0' shape=(1,) dtype=float32_ref>\n",
      "Tensor(\"Const:0\", shape=(1,), dtype=float32)\n",
      "Tensor(\"add:0\", shape=(1,), dtype=float32)\n",
      "[4.]\n"
     ]
    }
   ],
   "source": [
    "import tensorflow as tf \n",
    "tf.reset_default_graph()\n",
    "\n",
    "x = tf.placeholder(tf.float32, shape=[1])\n",
    "w = tf.get_variable(\"w\", shape=[1], \n",
    "        initializer=tf.zeros_initializer)\n",
    "b = tf.constant([4.0])\n",
    "y= x*w + b\n",
    "\n",
    "print(x)\n",
    "print(w) \n",
    "print(b) \n",
    "print(y)\n",
    "\n",
    "sess = tf.Session()\n",
    "sess.run(tf.global_variables_initializer())\n",
    "print(sess.run(y, feed_dict={x: [1]}))"
   ]
  },
  {
   "cell_type": "code",
   "execution_count": 20,
   "metadata": {},
   "outputs": [
    {
     "name": "stdout",
     "output_type": "stream",
     "text": [
      "Tensor(\"Placeholder:0\", shape=(?, 2), dtype=float32)\n",
      "<tf.Variable 'w:0' shape=(2,) dtype=float32_ref>\n",
      "Tensor(\"mul:0\", shape=(?, 2), dtype=float32)\n",
      "[[-0.24969749 -0.43447146]\n",
      " [-0.3883273  -0.28457475]\n",
      " [-0.3792029  -0.822984  ]]\n"
     ]
    }
   ],
   "source": [
    "import numpy as np\n",
    "import tensorflow as tf \n",
    "tf.reset_default_graph()\n",
    "\n",
    "x = tf.placeholder(tf.float32, shape=[None, 2])\n",
    "w = tf.get_variable(\"w\", shape=[2],\n",
    "        initializer=tf.random_normal_initializer())\n",
    "y= x*w\n",
    "\n",
    "print(x)\n",
    "print(w) \n",
    "print(y)\n",
    "\n",
    "sess = tf.Session()\n",
    "sess.run(tf.global_variables_initializer())\n",
    "print(sess.run(y, feed_dict={x: np.random.rand(3, 2)}))"
   ]
  },
  {
   "cell_type": "markdown",
   "metadata": {},
   "source": [
    "# Using GPUs"
   ]
  },
  {
   "cell_type": "code",
   "execution_count": 21,
   "metadata": {},
   "outputs": [
    {
     "name": "stdout",
     "output_type": "stream",
     "text": [
      "[[22. 28.]\n",
      " [49. 64.]]\n"
     ]
    }
   ],
   "source": [
    "import tensorflow as tf \n",
    "\n",
    "with tf.device(\"/device:GPU:0\"):\n",
    "    a = tf.constant([1.0, 2.0, 3.0, 4.0, 5.0, 6.0], shape=[2, 3], name='a')\n",
    "    b = tf.constant([1.0, 2.0, 3.0, 4.0, 5.0, 6.0], shape=[3, 2], name='b')\n",
    "    \n",
    "c = tf.matmul(a, b)\n",
    "# Creates a session with log_device_placement set to True.\n",
    "sess = tf.Session(config=tf.ConfigProto(log_device_placement=True))\n",
    "# Runs the op.\n",
    "print(sess.run(c))"
   ]
  },
  {
   "cell_type": "code",
   "execution_count": null,
   "metadata": {},
   "outputs": [],
   "source": []
  }
 ],
 "metadata": {
  "kernelspec": {
   "display_name": "Python 3",
   "language": "python",
   "name": "python3"
  },
  "language_info": {
   "codemirror_mode": {
    "name": "ipython",
    "version": 3
   },
   "file_extension": ".py",
   "mimetype": "text/x-python",
   "name": "python",
   "nbconvert_exporter": "python",
   "pygments_lexer": "ipython3",
   "version": "3.7.3"
  }
 },
 "nbformat": 4,
 "nbformat_minor": 2
}
