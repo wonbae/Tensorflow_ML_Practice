{
 "cells": [
  {
   "cell_type": "code",
   "execution_count": 1,
   "metadata": {},
   "outputs": [
    {
     "name": "stdout",
     "output_type": "stream",
     "text": [
      "Tensor(\"Const:0\", shape=(), dtype=float32)\n",
      "Tensor(\"Const_1:0\", shape=(), dtype=float32)\n",
      "Tensor(\"add:0\", shape=(), dtype=float32)\n",
      "7.0\n",
      "[3.0, 4.0]\n"
     ]
    }
   ],
   "source": [
    "import tensorflow as tf \n",
    "tf.reset_default_graph()\n",
    "\n",
    "# constant 를 선언해 보세요. (3.0 과 4.0)\n",
    "a = tf.constant(3.0)\n",
    "b = tf.constant(4.0)\n",
    "total = a + b\n",
    "print(a)\n",
    "print(b)\n",
    "print(total)\n",
    "\n",
    "sess = tf.Session()\n",
    "print(sess.run(total))\n",
    "print(sess.run([a, b]))"
   ]
  },
  {
   "cell_type": "code",
   "execution_count": 2,
   "metadata": {},
   "outputs": [
    {
     "name": "stdout",
     "output_type": "stream",
     "text": [
      "Tensor(\"Const:0\", shape=(2,), dtype=float32)\n",
      "[3. 4.]\n"
     ]
    }
   ],
   "source": [
    "import tensorflow as tf \n",
    "tf.reset_default_graph()\n",
    "\n",
    "# constant 를 선언해 보세요. (3.0 과 4.0)\n",
    "a = tf.constant([3.0,4.0])\n",
    "print(a)\n",
    "\n",
    "sess = tf.Session()\n",
    "print(sess.run(a))"
   ]
  },
  {
   "cell_type": "markdown",
   "metadata": {},
   "source": [
    "## placeholder"
   ]
  },
  {
   "cell_type": "code",
   "execution_count": 8,
   "metadata": {},
   "outputs": [
    {
     "name": "stdout",
     "output_type": "stream",
     "text": [
      "Tensor(\"Placeholder:0\", dtype=float32)\n",
      "Tensor(\"Placeholder_1:0\", dtype=float32)\n",
      "Tensor(\"add:0\", dtype=float32)\n",
      "7.5\n"
     ]
    }
   ],
   "source": [
    "import tensorflow as tf \n",
    "tf.reset_default_graph()\n",
    "\n",
    "# placeholder 를 선언해보세요.\n",
    "x = tf.placeholder(tf.float32)\n",
    "y = tf.placeholder(tf.float32)\n",
    "z = x + y\n",
    "print(x)\n",
    "print(y)\n",
    "print(z)\n",
    "\n",
    "sess = tf.Session()\n",
    "# sess run 을 실행해 보세요. x = 3, y = 4.5\n",
    "result = sess.run(z, feed_dict={x:3, y:4.5})\n",
    "print(result)"
   ]
  },
  {
   "cell_type": "code",
   "execution_count": 9,
   "metadata": {},
   "outputs": [
    {
     "name": "stdout",
     "output_type": "stream",
     "text": [
      "Tensor(\"Placeholder:0\", shape=(2,), dtype=float32)\n",
      "Tensor(\"Placeholder_1:0\", shape=(2,), dtype=float32)\n",
      "Tensor(\"add:0\", shape=(2,), dtype=float32)\n",
      "[3. 7.]\n"
     ]
    }
   ],
   "source": [
    "# with shape\n",
    "import tensorflow as tf \n",
    "tf.reset_default_graph()\n",
    "\n",
    "# placeholder 를 선언해보세요. (shape 에 유의)\n",
    "x1 = tf.placeholder(tf.float32, shape=[2])\n",
    "y1 = tf.placeholder(tf.float32, shape=[2])\n",
    "z1 = x1 + y1\n",
    "print(x1)\n",
    "print(y1)\n",
    "print(z1)\n",
    "\n",
    "sess = tf.Session()\n",
    "# sess run 을 실행해 보세요. x1 = (1, 3), y1 = (2, 4)\n",
    "result = sess.run(z1, feed_dict={x1:[1,3], y1:[2,4]})\n",
    "print(result)"
   ]
  },
  {
   "cell_type": "markdown",
   "metadata": {},
   "source": [
    "## variable"
   ]
  },
  {
   "cell_type": "code",
   "execution_count": 12,
   "metadata": {},
   "outputs": [
    {
     "name": "stdout",
     "output_type": "stream",
     "text": [
      "<tf.Variable 'my_variable:0' shape=(1, 2, 3) dtype=float32_ref>\n",
      "<tf.Variable 'my_int_variable:0' shape=(1, 2, 3) dtype=int32_ref>\n",
      "[[[-0.27024144 -0.67154694  0.52835596]\n",
      "  [ 0.05975068 -0.7674236   0.78690743]]]\n",
      "[[[0 0 0]\n",
      "  [0 0 0]]]\n"
     ]
    }
   ],
   "source": [
    "import tensorflow as tf \n",
    "tf.reset_default_graph()\n",
    "\n",
    "# variable 을 선언해 보세요. (이름은 아래에서 찾아보세요.)\n",
    "my_variable = tf.get_variable(\"my_variable\", [1,2,3])\n",
    "# int 32, zero initializer\n",
    "my_int_variable = tf.get_variable(\"my_int_variable\", [1,2,3], dtype=tf.int32, initializer=tf.zeros_initializer)\n",
    "\n",
    "print(my_variable)\n",
    "print(my_int_variable)\n",
    "\n",
    "sess = tf.Session()\n",
    "# initialzier 실행\n",
    "\n",
    "# sess run 실행\n",
    "sess.run(tf.global_variables_initializer()) \n",
    "my, my_init = sess.run([my_variable, my_int_variable])\n",
    "print(my)\n",
    "print(my_init)"
   ]
  },
  {
   "cell_type": "markdown",
   "metadata": {},
   "source": [
    "## 에러상황"
   ]
  },
  {
   "cell_type": "code",
   "execution_count": 11,
   "metadata": {},
   "outputs": [
    {
     "name": "stdout",
     "output_type": "stream",
     "text": [
      "ValueError\n"
     ]
    }
   ],
   "source": [
    "# error case\n",
    "import tensorflow as tf \n",
    "tf.reset_default_graph()\n",
    "\n",
    "my_variable = tf.get_variable(\"my_variable\", [1]) \n",
    "try:\n",
    "    dup = tf.get_variable(\"my_variable\", [1]) \n",
    "except ValueError:\n",
    "    print(\"ValueError\")"
   ]
  },
  {
   "cell_type": "markdown",
   "metadata": {},
   "source": [
    "### 1. reset 하기"
   ]
  },
  {
   "cell_type": "code",
   "execution_count": 17,
   "metadata": {
    "scrolled": true
   },
   "outputs": [
    {
     "name": "stdout",
     "output_type": "stream",
     "text": [
      "<tf.Variable 'my_variable:0' shape=(1,) dtype=float32_ref>\n",
      "<tf.Variable 'my_variable:0' shape=(1,) dtype=float32_ref>\n",
      "ValueError\n",
      "[-0.20567131]\n"
     ]
    }
   ],
   "source": [
    "import tensorflow as tf \n",
    "# reset 해 보세요.\n",
    "\n",
    "tf.reset_default_graph()\n",
    "my_variable = tf.get_variable(\"my_variable\", [1]) \n",
    "tf.reset_default_graph()\n",
    "dup = tf.get_variable(\"my_variable\", [1]) \n",
    "print(my_variable)\n",
    "print(dup)\n",
    "with tf.Session() as sess:\n",
    "    sess.run(tf.global_variables_initializer()) \n",
    "    try:\n",
    "        print(sess.run(my_variable))\n",
    "    except ValueError:\n",
    "        print(\"ValueError\")\n",
    "    print(sess.run(dup))"
   ]
  },
  {
   "cell_type": "markdown",
   "metadata": {},
   "source": [
    "### variable scope"
   ]
  },
  {
   "cell_type": "code",
   "execution_count": 23,
   "metadata": {},
   "outputs": [
    {
     "name": "stdout",
     "output_type": "stream",
     "text": [
      "<tf.Variable 'foo/my_variable:0' shape=(1,) dtype=float32_ref>\n",
      "<tf.Variable 'bar/my_variable:0' shape=(1,) dtype=float32_ref>\n",
      "[-1.68381]\n",
      "[-1.5890906]\n"
     ]
    }
   ],
   "source": [
    "import tensorflow as tf \n",
    "# variable scope 를 선언해 보세요. (이름은 아래를 참조하세요.)\n",
    "tf.reset_default_graph()\n",
    "with tf.variable_scope('foo'):\n",
    "    my_variable = tf.get_variable(\"my_variable\", [1]) \n",
    "with tf.variable_scope('bar'):\n",
    "    dup = tf.get_variable(\"my_variable\", [1])\n",
    "    \n",
    "print(my_variable)\n",
    "print(dup)\n",
    "with tf.Session() as sess:\n",
    "    sess.run(tf.global_variables_initializer()) \n",
    "    print(sess.run(my_variable))\n",
    "    print(sess.run(dup))"
   ]
  },
  {
   "cell_type": "code",
   "execution_count": 27,
   "metadata": {},
   "outputs": [
    {
     "name": "stdout",
     "output_type": "stream",
     "text": [
      "<tf.Variable 'foo/my_variable:0' shape=(1,) dtype=float32_ref>\n",
      "<tf.Variable 'foo/my_variable:0' shape=(1,) dtype=float32_ref>\n",
      "[1.0756522]\n",
      "[1.0756522]\n"
     ]
    }
   ],
   "source": [
    "import tensorflow as tf \n",
    "tf.reset_default_graph()\n",
    "\n",
    "# variable scope 와 reuse 를 선언해 보세요. (이름은 아래를 참조하세요.)\n",
    "with tf.variable_scope('foo'):\n",
    "    my_variable = tf.get_variable(\"my_variable\", [1]) \n",
    "with tf.variable_scope('foo', reuse=True):\n",
    "    dup = tf.get_variable(\"my_variable\", [1])\n",
    "\n",
    "print(my_variable)\n",
    "print(dup)\n",
    "with tf.Session() as sess:\n",
    "    sess.run(tf.global_variables_initializer()) \n",
    "    print(sess.run(my_variable))\n",
    "    print(sess.run(dup))"
   ]
  },
  {
   "cell_type": "markdown",
   "metadata": {},
   "source": [
    "### initializer"
   ]
  },
  {
   "cell_type": "code",
   "execution_count": 15,
   "metadata": {},
   "outputs": [
    {
     "name": "stdout",
     "output_type": "stream",
     "text": [
      "[[[ 0.38497305 -0.5529714   0.40448713]\n",
      "  [ 0.95871353  0.8886858   0.88998544]]]\n"
     ]
    }
   ],
   "source": [
    "import tensorflow as tf \n",
    "tf.reset_default_graph()\n",
    "\n",
    "v = tf.get_variable(\"v\", [1, 2, 3], dtype=tf.float32)\n",
    "sess = tf.Session()\n",
    "sess.run(tf.global_variables_initializer()) \n",
    "print(sess.run(v))"
   ]
  },
  {
   "cell_type": "code",
   "execution_count": 28,
   "metadata": {},
   "outputs": [
    {
     "name": "stdout",
     "output_type": "stream",
     "text": [
      "[[[0. 0. 0.]\n",
      "  [0. 0. 0.]]]\n",
      "[[[1. 1. 1.]\n",
      "  [1. 1. 1.]]]\n"
     ]
    }
   ],
   "source": [
    "import tensorflow as tf \n",
    "tf.reset_default_graph()\n",
    "\n",
    "# zero initializer\n",
    "v1 = tf.get_variable('v1',[1,2,3], dtype=tf.float32, initializer = tf.zeros_initializer)\n",
    "# constant initializer\n",
    "v2 = tf.get_variable('v2',[1,2,3], dtype=tf.float32, initializer= tf.constant_initializer(1.0))\n",
    "\n",
    "sess = tf.Session()\n",
    "sess.run(tf.global_vanormalriables_initializer()) \n",
    "o1, o2 = sess.run([v1, v2]) \n",
    "\n",
    "print(o1)\n",
    "print(o2)"
   ]
  },
  {
   "cell_type": "code",
   "execution_count": 29,
   "metadata": {},
   "outputs": [
    {
     "name": "stdout",
     "output_type": "stream",
     "text": [
      "[[[ 1.0836632  -0.13845229 -0.9691878 ]\n",
      "  [-0.89696795  0.7812816   1.4676005 ]]]\n",
      "[[[0.33334744 0.06550038 0.61315   ]\n",
      "  [0.5348885  0.8134992  0.7971686 ]]]\n"
     ]
    }
   ],
   "source": [
    "import tensorflow as tf \n",
    "tf.reset_default_graph()\n",
    "\n",
    "# 정규 분포 initializer\n",
    "v3 = tf.get_variable('v3', [1,2,3], dtype=tf.float32, initializer=tf.random_normal_initializer())\n",
    "# uniform 분포 initializer\n",
    "v4 = tf.get_variable('v4', [1,2,3], dtype=tf.float32, initializer=tf.random_uniform_initializer())\n",
    "sess = tf.Session()\n",
    "sess.run(tf.global_variables_initializer()) \n",
    "o3, o4 = sess.run([v3, v4]) \n",
    "\n",
    "print(o3)\n",
    "print(o4)"
   ]
  },
  {
   "cell_type": "markdown",
   "metadata": {},
   "source": [
    "# Examples"
   ]
  },
  {
   "cell_type": "code",
   "execution_count": 30,
   "metadata": {},
   "outputs": [
    {
     "name": "stdout",
     "output_type": "stream",
     "text": [
      "Tensor(\"Placeholder:0\", dtype=float32)\n",
      "<tf.Variable 'w:0' shape=(1,) dtype=float32_ref>\n",
      "Tensor(\"Const_1:0\", shape=(), dtype=float32)\n",
      "Tensor(\"add:0\", dtype=float32)\n",
      "[6.]\n"
     ]
    }
   ],
   "source": [
    "import tensorflow as tf \n",
    "tf.reset_default_graph()\n",
    "\n",
    "x = tf.placeholder(tf.float32)\n",
    "w = tf.get_variable(\"w\", \n",
    "            initializer=tf.constant([2.]))\n",
    "b = tf.constant(4.0) \n",
    "y= x*w + b\n",
    "\n",
    "print(x)\n",
    "print(w) \n",
    "print(b) \n",
    "print(y)\n",
    "\n",
    "sess = tf.Session()\n",
    "sess.run(tf.global_variables_initializer())\n",
    "print(sess.run(y, feed_dict={x: 1}))"
   ]
  },
  {
   "cell_type": "code",
   "execution_count": 31,
   "metadata": {},
   "outputs": [
    {
     "name": "stdout",
     "output_type": "stream",
     "text": [
      "Tensor(\"Placeholder:0\", shape=(1,), dtype=float32)\n",
      "<tf.Variable 'w:0' shape=(1,) dtype=float32_ref>\n",
      "Tensor(\"Const:0\", shape=(1,), dtype=float32)\n",
      "Tensor(\"add:0\", shape=(1,), dtype=float32)\n",
      "[4.]\n"
     ]
    }
   ],
   "source": [
    "import tensorflow as tf \n",
    "tf.reset_default_graph()\n",
    "\n",
    "x = tf.placeholder(tf.float32, shape=[1])\n",
    "w = tf.get_variable(\"w\", shape=[1], \n",
    "        initializer=tf.zeros_initializer)\n",
    "b = tf.constant([4.0])\n",
    "y= x*w + b\n",
    "\n",
    "print(x)\n",
    "print(w) \n",
    "print(b) \n",
    "print(y)\n",
    "\n",
    "sess = tf.Session()\n",
    "sess.run(tf.global_variables_initializer())\n",
    "print(sess.run(y, feed_dict={x: [1]}))"
   ]
  },
  {
   "cell_type": "code",
   "execution_count": 32,
   "metadata": {},
   "outputs": [
    {
     "name": "stdout",
     "output_type": "stream",
     "text": [
      "Tensor(\"Placeholder:0\", shape=(?, 2), dtype=float32)\n",
      "<tf.Variable 'w:0' shape=(2,) dtype=float32_ref>\n",
      "Tensor(\"mul:0\", shape=(?, 2), dtype=float32)\n",
      "[[-0.6400163  -0.20591749]\n",
      " [-0.31755203 -1.1063311 ]\n",
      " [-0.6997827  -1.312068  ]]\n"
     ]
    }
   ],
   "source": [
    "import numpy as np\n",
    "import tensorflow as tf \n",
    "tf.reset_default_graph()\n",
    "\n",
    "x = tf.placeholder(tf.float32, shape=[None, 2])\n",
    "w = tf.get_variable(\"w\", shape=[2],\n",
    "        initializer=tf.random_normal_initializer())\n",
    "y= x*w\n",
    "\n",
    "print(x)\n",
    "print(w) \n",
    "print(y)\n",
    "\n",
    "sess = tf.Session()\n",
    "sess.run(tf.global_variables_initializer())\n",
    "print(sess.run(y, feed_dict={x: np.random.rand(3, 2)}))"
   ]
  },
  {
   "cell_type": "markdown",
   "metadata": {},
   "source": [
    "# Using GPUs"
   ]
  },
  {
   "cell_type": "code",
   "execution_count": 21,
   "metadata": {},
   "outputs": [
    {
     "name": "stdout",
     "output_type": "stream",
     "text": [
      "[[22. 28.]\n",
      " [49. 64.]]\n"
     ]
    }
   ],
   "source": [
    "import tensorflow as tf \n",
    "\n",
    "with tf.device(\"/device:GPU:0\"):\n",
    "    a = tf.constant([1.0, 2.0, 3.0, 4.0, 5.0, 6.0], shape=[2, 3], name='a')\n",
    "    b = tf.constant([1.0, 2.0, 3.0, 4.0, 5.0, 6.0], shape=[3, 2], name='b')\n",
    "    \n",
    "c = tf.matmul(a, b)\n",
    "# Creates a session with log_device_placement set to True.\n",
    "sess = tf.Session(config=tf.ConfigProto(log_device_placement=True))\n",
    "# Runs the op.\n",
    "print(sess.run(c))"
   ]
  },
  {
   "cell_type": "code",
   "execution_count": null,
   "metadata": {},
   "outputs": [],
   "source": []
  }
 ],
 "metadata": {
  "kernelspec": {
   "display_name": "Python 3",
   "language": "python",
   "name": "python3"
  },
  "language_info": {
   "codemirror_mode": {
    "name": "ipython",
    "version": 3
   },
   "file_extension": ".py",
   "mimetype": "text/x-python",
   "name": "python",
   "nbconvert_exporter": "python",
   "pygments_lexer": "ipython3",
   "version": "3.7.3"
  }
 },
 "nbformat": 4,
 "nbformat_minor": 2
}
